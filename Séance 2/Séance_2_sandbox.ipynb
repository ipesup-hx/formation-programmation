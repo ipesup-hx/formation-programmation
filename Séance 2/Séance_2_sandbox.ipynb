{
 "cells": [
  {
   "cell_type": "markdown",
   "metadata": {
    "id": "yfftph2JjT2v"
   },
   "source": [
    "# Séance n°2 : structures et boucles"
   ]
  },
  {
   "cell_type": "code",
   "execution_count": null,
   "metadata": {
    "colab": {
     "base_uri": "https://localhost:8080/"
    },
    "executionInfo": {
     "elapsed": 24,
     "status": "ok",
     "timestamp": 1740680082717,
     "user": {
      "displayName": "Laurent ATTIAS",
      "userId": "10616343776833878094"
     },
     "user_tz": -60
    },
    "id": "PPOEWV-OjWxc",
    "outputId": "ed501b8a-65f9-4cf1-9f75-a61b80bb138c"
   },
   "outputs": [
    {
     "data": {
      "text/plain": [
       "True"
      ]
     },
     "execution_count": 1,
     "metadata": {},
     "output_type": "execute_result"
    }
   ],
   "source": [
    "True"
   ]
  },
  {
   "cell_type": "code",
   "execution_count": null,
   "metadata": {
    "colab": {
     "base_uri": "https://localhost:8080/"
    },
    "executionInfo": {
     "elapsed": 14,
     "status": "ok",
     "timestamp": 1740680103799,
     "user": {
      "displayName": "Laurent ATTIAS",
      "userId": "10616343776833878094"
     },
     "user_tz": -60
    },
    "id": "I4T3YrERnldA",
    "outputId": "2262c31b-9b93-43e5-c202-ac7a57bab06e"
   },
   "outputs": [
    {
     "data": {
      "text/plain": [
       "False"
      ]
     },
     "execution_count": 3,
     "metadata": {},
     "output_type": "execute_result"
    }
   ],
   "source": [
    "False"
   ]
  },
  {
   "cell_type": "code",
   "execution_count": null,
   "metadata": {
    "colab": {
     "base_uri": "https://localhost:8080/"
    },
    "executionInfo": {
     "elapsed": 53,
     "status": "ok",
     "timestamp": 1740680317466,
     "user": {
      "displayName": "Laurent ATTIAS",
      "userId": "10616343776833878094"
     },
     "user_tz": -60
    },
    "id": "MbLggCBbn1gc",
    "outputId": "41614186-3f1f-4e9e-a6e7-23d89fed72ae"
   },
   "outputs": [
    {
     "data": {
      "text/plain": [
       "False"
      ]
     },
     "execution_count": 8,
     "metadata": {},
     "output_type": "execute_result"
    }
   ],
   "source": [
    "True and False"
   ]
  },
  {
   "cell_type": "code",
   "execution_count": null,
   "metadata": {
    "colab": {
     "base_uri": "https://localhost:8080/"
    },
    "executionInfo": {
     "elapsed": 11,
     "status": "ok",
     "timestamp": 1740680258766,
     "user": {
      "displayName": "Laurent ATTIAS",
      "userId": "10616343776833878094"
     },
     "user_tz": -60
    },
    "id": "Nzn3fzmIoMnM",
    "outputId": "b1e1e16d-cd03-46f1-c726-afce11570694"
   },
   "outputs": [
    {
     "data": {
      "text/plain": [
       "True"
      ]
     },
     "execution_count": 4,
     "metadata": {},
     "output_type": "execute_result"
    }
   ],
   "source": [
    "5 >= 4"
   ]
  },
  {
   "cell_type": "code",
   "execution_count": null,
   "metadata": {
    "colab": {
     "base_uri": "https://localhost:8080/"
    },
    "executionInfo": {
     "elapsed": 7,
     "status": "ok",
     "timestamp": 1740680270901,
     "user": {
      "displayName": "Laurent ATTIAS",
      "userId": "10616343776833878094"
     },
     "user_tz": -60
    },
    "id": "KUUMme2-oP9k",
    "outputId": "a22922af-0015-4a33-c4a7-547cea3d8fa9"
   },
   "outputs": [
    {
     "data": {
      "text/plain": [
       "True"
      ]
     },
     "execution_count": 5,
     "metadata": {},
     "output_type": "execute_result"
    }
   ],
   "source": [
    "9 >= 3"
   ]
  },
  {
   "cell_type": "code",
   "execution_count": null,
   "metadata": {
    "colab": {
     "base_uri": "https://localhost:8080/"
    },
    "executionInfo": {
     "elapsed": 53,
     "status": "ok",
     "timestamp": 1740680306860,
     "user": {
      "displayName": "Laurent ATTIAS",
      "userId": "10616343776833878094"
     },
     "user_tz": -60
    },
    "id": "QqTykcZnoRlS",
    "outputId": "405f9035-3fbc-42bc-95f8-7a2d49595708"
   },
   "outputs": [
    {
     "data": {
      "text/plain": [
       "False"
      ]
     },
     "execution_count": 7,
     "metadata": {},
     "output_type": "execute_result"
    }
   ],
   "source": [
    "(3 >= 4) and (9 >= 3)"
   ]
  },
  {
   "cell_type": "code",
   "execution_count": null,
   "metadata": {
    "colab": {
     "base_uri": "https://localhost:8080/"
    },
    "executionInfo": {
     "elapsed": 7,
     "status": "ok",
     "timestamp": 1740680357405,
     "user": {
      "displayName": "Laurent ATTIAS",
      "userId": "10616343776833878094"
     },
     "user_tz": -60
    },
    "id": "lIgSr1elodS0",
    "outputId": "cfb5d303-5be8-493f-b7ec-9c0d42690274"
   },
   "outputs": [
    {
     "data": {
      "text/plain": [
       "False"
      ]
     },
     "execution_count": 10,
     "metadata": {},
     "output_type": "execute_result"
    }
   ],
   "source": [
    "(3 >= 4) or (9 >= 10)"
   ]
  },
  {
   "cell_type": "code",
   "execution_count": null,
   "metadata": {
    "colab": {
     "base_uri": "https://localhost:8080/"
    },
    "executionInfo": {
     "elapsed": 8,
     "status": "ok",
     "timestamp": 1740680366810,
     "user": {
      "displayName": "Laurent ATTIAS",
      "userId": "10616343776833878094"
     },
     "user_tz": -60
    },
    "id": "2jZm1J9uonWu",
    "outputId": "b336976c-3165-408b-edbf-4d926c821659"
   },
   "outputs": [
    {
     "data": {
      "text/plain": [
       "True"
      ]
     },
     "execution_count": 11,
     "metadata": {},
     "output_type": "execute_result"
    }
   ],
   "source": [
    "True or False"
   ]
  },
  {
   "cell_type": "code",
   "execution_count": null,
   "metadata": {
    "id": "gdaFLPBJouAp"
   },
   "outputs": [],
   "source": [
    "a = True"
   ]
  },
  {
   "cell_type": "code",
   "execution_count": null,
   "metadata": {
    "id": "7RvsfjbSovd2"
   },
   "outputs": [],
   "source": [
    "b = False"
   ]
  },
  {
   "cell_type": "code",
   "execution_count": null,
   "metadata": {
    "colab": {
     "base_uri": "https://localhost:8080/"
    },
    "executionInfo": {
     "elapsed": 47,
     "status": "ok",
     "timestamp": 1740680423874,
     "user": {
      "displayName": "Laurent ATTIAS",
      "userId": "10616343776833878094"
     },
     "user_tz": -60
    },
    "id": "ELGDVqffo1SM",
    "outputId": "01c86cf3-5447-4d00-9895-2cbe2198eb36"
   },
   "outputs": [
    {
     "data": {
      "text/plain": [
       "True"
      ]
     },
     "execution_count": 16,
     "metadata": {},
     "output_type": "execute_result"
    }
   ],
   "source": [
    "a or b"
   ]
  },
  {
   "cell_type": "code",
   "execution_count": null,
   "metadata": {
    "colab": {
     "base_uri": "https://localhost:8080/"
    },
    "executionInfo": {
     "elapsed": 17,
     "status": "ok",
     "timestamp": 1740680523491,
     "user": {
      "displayName": "Laurent ATTIAS",
      "userId": "10616343776833878094"
     },
     "user_tz": -60
    },
    "id": "iuC2vxvto290",
    "outputId": "bc991a5a-9b72-43b2-c519-719b0698fb94"
   },
   "outputs": [
    {
     "data": {
      "text/plain": [
       "True"
      ]
     },
     "execution_count": 19,
     "metadata": {},
     "output_type": "execute_result"
    }
   ],
   "source": [
    "(a and (not b)) or (not a)"
   ]
  },
  {
   "cell_type": "markdown",
   "metadata": {
    "id": "JdgcJEdfpxjn"
   },
   "source": [
    "### Conditions"
   ]
  },
  {
   "cell_type": "code",
   "execution_count": null,
   "metadata": {
    "id": "5wpbxW_rpvMn"
   },
   "outputs": [],
   "source": [
    "if 5 >= 7:\n",
    "  print(\"ok\")"
   ]
  },
  {
   "cell_type": "code",
   "execution_count": null,
   "metadata": {
    "id": "R7H4z_HAp4X-"
   },
   "outputs": [],
   "source": [
    "nom = \"Mathieu\""
   ]
  },
  {
   "cell_type": "code",
   "execution_count": null,
   "metadata": {
    "colab": {
     "base_uri": "https://localhost:8080/"
    },
    "executionInfo": {
     "elapsed": 24,
     "status": "ok",
     "timestamp": 1740680835762,
     "user": {
      "displayName": "Laurent ATTIAS",
      "userId": "10616343776833878094"
     },
     "user_tz": -60
    },
    "id": "CxTPjx6iqJFh",
    "outputId": "af9e29c7-d96d-41c1-9ea0-8018471cd699"
   },
   "outputs": [
    {
     "data": {
      "text/plain": [
       "True"
      ]
     },
     "execution_count": 28,
     "metadata": {},
     "output_type": "execute_result"
    }
   ],
   "source": [
    "\"Anne\" <= \"L\""
   ]
  },
  {
   "cell_type": "code",
   "execution_count": null,
   "metadata": {
    "colab": {
     "base_uri": "https://localhost:8080/"
    },
    "collapsed": true,
    "executionInfo": {
     "elapsed": 10,
     "status": "ok",
     "timestamp": 1740680891857,
     "user": {
      "displayName": "Laurent ATTIAS",
      "userId": "10616343776833878094"
     },
     "user_tz": -60
    },
    "id": "Jix-o5yjqBo4",
    "outputId": "7ce498a6-95fd-4c7b-ba1d-49c075c1bc73"
   },
   "outputs": [
    {
     "name": "stdout",
     "output_type": "stream",
     "text": [
      "Deuxième groupe\n"
     ]
    }
   ],
   "source": [
    "if nom <= \"L\":\n",
    "  print(\"Premier groupe\")\n",
    "else:\n",
    "  print(\"Deuxième groupe\")"
   ]
  },
  {
   "cell_type": "code",
   "execution_count": null,
   "metadata": {
    "colab": {
     "base_uri": "https://localhost:8080/"
    },
    "executionInfo": {
     "elapsed": 61,
     "status": "ok",
     "timestamp": 1740681090686,
     "user": {
      "displayName": "Laurent ATTIAS",
      "userId": "10616343776833878094"
     },
     "user_tz": -60
    },
    "id": "hsVXjjvPqp4d",
    "outputId": "21519cc4-a95f-40f0-fd38-a0112cb045a9"
   },
   "outputs": [
    {
     "name": "stdout",
     "output_type": "stream",
     "text": [
      "Wassim est dans le deuxième groupe\n",
      "Anne est dans le premier groupe\n",
      "Mathieu est dans le deuxième groupe\n"
     ]
    }
   ],
   "source": [
    "# prenoms =\n",
    "for prenom in [\"Wassim\", \"Anne\", \"Mathieu\"]:\n",
    "  if prenom <= \"L\":\n",
    "    print(f\"{prenom} est dans le premier groupe\")\n",
    "  else:\n",
    "    print(f\"{prenom} est dans le deuxième groupe\")"
   ]
  },
  {
   "cell_type": "code",
   "execution_count": null,
   "metadata": {
    "colab": {
     "base_uri": "https://localhost:8080/",
     "height": 370
    },
    "collapsed": true,
    "executionInfo": {
     "elapsed": 2349,
     "status": "error",
     "timestamp": 1740681416860,
     "user": {
      "displayName": "Laurent ATTIAS",
      "userId": "10616343776833878094"
     },
     "user_tz": -60
    },
    "id": "zjPWPugCrzT2",
    "outputId": "0577fd86-b783-4be6-fb1b-905058425208"
   },
   "outputs": [
    {
     "ename": "KeyboardInterrupt",
     "evalue": "Interrupted by user",
     "output_type": "error",
     "traceback": [
      "\u001b[0;31m---------------------------------------------------------------------------\u001b[0m",
      "\u001b[0;31mKeyboardInterrupt\u001b[0m                         Traceback (most recent call last)",
      "\u001b[0;32m<ipython-input-46-85401092e6da>\u001b[0m in \u001b[0;36m<cell line: 0>\u001b[0;34m()\u001b[0m\n\u001b[0;32m----> 1\u001b[0;31m \u001b[0mprenom\u001b[0m \u001b[0;34m=\u001b[0m \u001b[0minput\u001b[0m\u001b[0;34m(\u001b[0m\u001b[0;34m)\u001b[0m\u001b[0;34m\u001b[0m\u001b[0;34m\u001b[0m\u001b[0m\n\u001b[0m\u001b[1;32m      2\u001b[0m \u001b[0;32mif\u001b[0m \u001b[0mprenom\u001b[0m \u001b[0;34m<=\u001b[0m \u001b[0;34m\"L\"\u001b[0m\u001b[0;34m:\u001b[0m\u001b[0;34m\u001b[0m\u001b[0;34m\u001b[0m\u001b[0m\n\u001b[1;32m      3\u001b[0m   \u001b[0mprint\u001b[0m\u001b[0;34m(\u001b[0m\u001b[0;34m\"Premier groupe\"\u001b[0m\u001b[0;34m)\u001b[0m\u001b[0;34m\u001b[0m\u001b[0;34m\u001b[0m\u001b[0m\n\u001b[1;32m      4\u001b[0m \u001b[0;32melse\u001b[0m\u001b[0;34m:\u001b[0m\u001b[0;34m\u001b[0m\u001b[0;34m\u001b[0m\u001b[0m\n\u001b[1;32m      5\u001b[0m   \u001b[0mprint\u001b[0m\u001b[0;34m(\u001b[0m\u001b[0;34m\"Deuxième groupe\"\u001b[0m\u001b[0;34m)\u001b[0m\u001b[0;34m\u001b[0m\u001b[0;34m\u001b[0m\u001b[0m\n",
      "\u001b[0;32m/usr/local/lib/python3.11/dist-packages/ipykernel/kernelbase.py\u001b[0m in \u001b[0;36mraw_input\u001b[0;34m(self, prompt)\u001b[0m\n\u001b[1;32m   1175\u001b[0m                 \u001b[0;34m\"raw_input was called, but this frontend does not support input requests.\"\u001b[0m\u001b[0;34m\u001b[0m\u001b[0;34m\u001b[0m\u001b[0m\n\u001b[1;32m   1176\u001b[0m             )\n\u001b[0;32m-> 1177\u001b[0;31m         return self._input_request(\n\u001b[0m\u001b[1;32m   1178\u001b[0m             \u001b[0mstr\u001b[0m\u001b[0;34m(\u001b[0m\u001b[0mprompt\u001b[0m\u001b[0;34m)\u001b[0m\u001b[0;34m,\u001b[0m\u001b[0;34m\u001b[0m\u001b[0;34m\u001b[0m\u001b[0m\n\u001b[1;32m   1179\u001b[0m             \u001b[0mself\u001b[0m\u001b[0;34m.\u001b[0m\u001b[0m_parent_ident\u001b[0m\u001b[0;34m[\u001b[0m\u001b[0;34m\"shell\"\u001b[0m\u001b[0;34m]\u001b[0m\u001b[0;34m,\u001b[0m\u001b[0;34m\u001b[0m\u001b[0;34m\u001b[0m\u001b[0m\n",
      "\u001b[0;32m/usr/local/lib/python3.11/dist-packages/ipykernel/kernelbase.py\u001b[0m in \u001b[0;36m_input_request\u001b[0;34m(self, prompt, ident, parent, password)\u001b[0m\n\u001b[1;32m   1217\u001b[0m             \u001b[0;32mexcept\u001b[0m \u001b[0mKeyboardInterrupt\u001b[0m\u001b[0;34m:\u001b[0m\u001b[0;34m\u001b[0m\u001b[0;34m\u001b[0m\u001b[0m\n\u001b[1;32m   1218\u001b[0m                 \u001b[0;31m# re-raise KeyboardInterrupt, to truncate traceback\u001b[0m\u001b[0;34m\u001b[0m\u001b[0;34m\u001b[0m\u001b[0m\n\u001b[0;32m-> 1219\u001b[0;31m                 \u001b[0;32mraise\u001b[0m \u001b[0mKeyboardInterrupt\u001b[0m\u001b[0;34m(\u001b[0m\u001b[0;34m\"Interrupted by user\"\u001b[0m\u001b[0;34m)\u001b[0m \u001b[0;32mfrom\u001b[0m \u001b[0;32mNone\u001b[0m\u001b[0;34m\u001b[0m\u001b[0;34m\u001b[0m\u001b[0m\n\u001b[0m\u001b[1;32m   1220\u001b[0m             \u001b[0;32mexcept\u001b[0m \u001b[0mException\u001b[0m\u001b[0;34m:\u001b[0m\u001b[0;34m\u001b[0m\u001b[0;34m\u001b[0m\u001b[0m\n\u001b[1;32m   1221\u001b[0m                 \u001b[0mself\u001b[0m\u001b[0;34m.\u001b[0m\u001b[0mlog\u001b[0m\u001b[0;34m.\u001b[0m\u001b[0mwarning\u001b[0m\u001b[0;34m(\u001b[0m\u001b[0;34m\"Invalid Message:\"\u001b[0m\u001b[0;34m,\u001b[0m \u001b[0mexc_info\u001b[0m\u001b[0;34m=\u001b[0m\u001b[0;32mTrue\u001b[0m\u001b[0;34m)\u001b[0m\u001b[0;34m\u001b[0m\u001b[0;34m\u001b[0m\u001b[0m\n",
      "\u001b[0;31mKeyboardInterrupt\u001b[0m: Interrupted by user"
     ]
    }
   ],
   "source": [
    "prenom = input()\n",
    "if prenom <= \"L\":\n",
    "  print(\"Premier groupe\")\n",
    "else:\n",
    "  print(\"Deuxième groupe\")"
   ]
  },
  {
   "cell_type": "code",
   "execution_count": null,
   "metadata": {
    "colab": {
     "base_uri": "https://localhost:8080/"
    },
    "executionInfo": {
     "elapsed": 14,
     "status": "ok",
     "timestamp": 1740681503174,
     "user": {
      "displayName": "Laurent ATTIAS",
      "userId": "10616343776833878094"
     },
     "user_tz": -60
    },
    "id": "90nIydENsvjv",
    "outputId": "50a87c82-4550-491b-926e-4380a6b3eea9"
   },
   "outputs": [
    {
     "data": {
      "text/plain": [
       "True"
      ]
     },
     "execution_count": 53,
     "metadata": {},
     "output_type": "execute_result"
    }
   ],
   "source": [
    "a = \"458\"\n",
    "a.isnumeric()\n"
   ]
  },
  {
   "cell_type": "code",
   "execution_count": null,
   "metadata": {
    "colab": {
     "base_uri": "https://localhost:8080/"
    },
    "executionInfo": {
     "elapsed": 2225,
     "status": "ok",
     "timestamp": 1740682292190,
     "user": {
      "displayName": "Laurent ATTIAS",
      "userId": "10616343776833878094"
     },
     "user_tz": -60
    },
    "id": "_5XgQeJcszTu",
    "outputId": "6643af69-5771-411b-e0bc-e67eabc4da96"
   },
   "outputs": [
    {
     "name": "stdout",
     "output_type": "stream",
     "text": [
      "5\n"
     ]
    }
   ],
   "source": [
    "nombre1 = input()"
   ]
  },
  {
   "cell_type": "code",
   "execution_count": null,
   "metadata": {
    "colab": {
     "base_uri": "https://localhost:8080/"
    },
    "executionInfo": {
     "elapsed": 23,
     "status": "ok",
     "timestamp": 1740682367113,
     "user": {
      "displayName": "Laurent ATTIAS",
      "userId": "10616343776833878094"
     },
     "user_tz": -60
    },
    "id": "NAV8ZTGFv3Mi",
    "outputId": "4f201d8e-0456-4869-b777-b2f698f4203a"
   },
   "outputs": [
    {
     "data": {
      "text/plain": [
       "5"
      ]
     },
     "execution_count": 61,
     "metadata": {},
     "output_type": "execute_result"
    }
   ],
   "source": [
    "int(nombre1)"
   ]
  },
  {
   "cell_type": "code",
   "execution_count": 1,
   "metadata": {},
   "outputs": [
    {
     "name": "stdout",
     "output_type": "stream",
     "text": [
      "Addition de deux nombres entiers\n",
      "12+24=36\n"
     ]
    }
   ],
   "source": [
    "print(\"Addition de deux nombres entiers\")\n",
    "\n",
    "a = input(\"Entrez un premier nombre : \")\n",
    "\n",
    "b = input(\"Entrez un deuxième nombre : \")\n",
    "\n",
    "a = int(a)\n",
    "\n",
    "b = int(b)\n",
    "\n",
    "print(f\"{a}+{b}={a+b}\")"
   ]
  },
  {
   "cell_type": "code",
   "execution_count": 17,
   "metadata": {},
   "outputs": [
    {
     "name": "stdout",
     "output_type": "stream",
     "text": [
      "1,3,8,7,9,6\n",
      "Somme des nombres : 34\n",
      "Moyenne des nombres : 5.666666666666667\n",
      "Nombre de nombres supérieurs à la moyenne : 4\n"
     ]
    }
   ],
   "source": [
    "nombres = input(\"Saisissez une liste de nombres séparés par des virgules\")\n",
    "print(nombres)\n",
    "\n",
    "liste = nombres.split(',')\n",
    "\n",
    "# 1) Calcul de la somme pendant la conversion des éléments\n",
    "\n",
    "somme = 0\n",
    "for i in range(len(liste)):\n",
    "    liste[i] = int(liste[i])\n",
    "    somme += liste[i]\n",
    "\n",
    "\n",
    "# 2) Calcul de la somme à part\n",
    "\n",
    "somme = sum(liste)\n",
    "\n",
    "print(f\"Somme des nombres : {somme}\")\n",
    "\n",
    "# Calcul de la moyenne\n",
    "\n",
    "moyenne = somme/len(liste)\n",
    "\n",
    "print(f\"Moyenne des nombres : {moyenne}\")\n",
    "\n",
    "# Nombre de nombres supérieurs à la moyenne\n",
    "\n",
    "compteur = 0\n",
    "for nombre in liste:\n",
    "    if nombre >= moyenne:\n",
    "        compteur += 1\n",
    "\n",
    "print(f\"Nombre de nombres supérieurs à la moyenne : {compteur}\")"
   ]
  },
  {
   "cell_type": "code",
   "execution_count": 13,
   "metadata": {},
   "outputs": [
    {
     "data": {
      "text/plain": [
       "6"
      ]
     },
     "execution_count": 13,
     "metadata": {},
     "output_type": "execute_result"
    }
   ],
   "source": [
    "sum([1, 2, 3])"
   ]
  },
  {
   "cell_type": "code",
   "execution_count": null,
   "metadata": {},
   "outputs": [],
   "source": [
    "nombres = input(\"Saisissez une liste de nombres séparés par des virgules\")\n",
    "\n",
    "liste_str = nombres.split(',')\n",
    "\n",
    "liste_int = []\n",
    "\n",
    "for nombre_str in liste_str:\n",
    "    liste_int.append(int(nombre_str))"
   ]
  }
 ],
 "metadata": {
  "colab": {
   "authorship_tag": "ABX9TyMQlarZIpwLeHkig0NVigtB",
   "provenance": []
  },
  "kernelspec": {
   "display_name": "Python 3",
   "name": "python3"
  },
  "language_info": {
   "codemirror_mode": {
    "name": "ipython",
    "version": 3
   },
   "file_extension": ".py",
   "mimetype": "text/x-python",
   "name": "python",
   "nbconvert_exporter": "python",
   "pygments_lexer": "ipython3",
   "version": "3.11.0"
  }
 },
 "nbformat": 4,
 "nbformat_minor": 0
}
