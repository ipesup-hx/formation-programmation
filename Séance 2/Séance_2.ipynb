{
 "cells": [
  {
   "cell_type": "markdown",
   "metadata": {
    "slideshow": {
     "slide_type": "slide"
    }
   },
   "source": [
    "# Séance 2 : Déroulement d'un programme"
   ]
  },
  {
   "cell_type": "markdown",
   "metadata": {
    "slideshow": {
     "slide_type": "slide"
    }
   },
   "source": [
    "## Conditions"
   ]
  },
  {
   "cell_type": "markdown",
   "metadata": {
    "slideshow": {
     "slide_type": "subslide"
    }
   },
   "source": [
    "#### Exercice 1 : conditions\n",
    "\n",
    "Vous allez créer une calculatrice qui permettra d'effectuer une opération simple entre deux nombres. Vous devrez donc créer deux variables pour stocker les deux nombres, et une variable pour stocker le symbole qui représentera l'opération à effectuer. Vous devrez d'abord créer une structure conditionnelle qui vérifiera la validité des variables et du symbole. Ensuite, vous devrez créer une deuxième structure conditionnelle pour effectuer l'opération en fonction du symbole choisi."
   ]
  },
  {
   "cell_type": "markdown",
   "metadata": {
    "slideshow": {
     "slide_type": "subslide"
    }
   },
   "source": [
    "1. Demandez à l'utilisateur de fournir deux nombres avec la fonction `input`. Stockez ces valeurs dans  `nombre1` et  `nombre2`.\n",
    "2. `nombre1` et `nombre2` sont des chaînes de caractères (`str`). Utilisez la fonction  `isnumeric` pour vérifier que ce sont des nombres.\n",
    "3. Si ce n'est pas le cas, sortez du programme en générant une exception avec le mot clé `raise:raise SystemExit(\"Fin du programme\")`.\n",
    "4. Sinon, convertissez les deux nombres en nombres entiers avec la fonction  int.\n",
    "5. Créez une variable `operation`et utilisez `input` pour obtenir l'opération souhaitée par l'utilisateur.\n",
    "6. Vérifiez que l'opération est valide (+, -, * ou /). Sinon, quittez le programme.\n",
    "7. Effectuez le calcul en fonction de la valeur de `operation` (par exemple en utilisant `if` - `elif` - `else`) et stockez le résultat dans la variable `resultat`.\n",
    "8. Attention, il est impossible de diviser un nombre par 0, il faut donc prévoir une structure conditionnelle supplémentaire pour quitter le programme si le deuxième nombre est 0.\n",
    "9. Astuce : lors de la division, utilisez la fonction `round` pour arrondir le résultat et le rendre plus lisible !\n",
    "10. Affichez le resultat."
   ]
  },
  {
   "cell_type": "markdown",
   "metadata": {
    "slideshow": {
     "slide_type": "slide"
    }
   },
   "source": [
    "## Boucles"
   ]
  },
  {
   "cell_type": "markdown",
   "metadata": {
    "slideshow": {
     "slide_type": "subslide"
    }
   },
   "source": [
    "#### Exercice 2 : Boucles\n",
    "\n",
    "Vous allez maintenant écrire un programme qui calcule différentes statistiques pour un ensemble de nombres fourni par l'utilisateur. Cette tâche vous permettra de réviser les listes et d'aborder la nouvelle notion de ce chapitre : les boucles."
   ]
  },
  {
   "cell_type": "markdown",
   "metadata": {
    "slideshow": {
     "slide_type": "subslide"
    }
   },
   "source": [
    "1. Demandez à l'utilisateur de saisir une liste de nombres séparés par des virgules (par exemple : \"1,2,3,4\").\n",
    "2. Stockez cette valeur dans une variable `nombres`. `nombres` est une chaîne de caractères (`str`).\n",
    "3. Utilisez la fonction `split` pour transformer cette chaîne de caractères en une variable `liste` de type liste. `liste` est une liste de chaînes de caractères.\n",
    "4. Transformez `liste` en une liste d'entiers `liste_entiers`, en utilisant la fonction `int`. Vous devrez convertir chaque élément un par un ! Utilisez une boucle.\n",
    "5. Calculez et affichez la somme des nombres dans la liste.\n",
    "6. Calculez et affichez la moyenne des nombres dans la liste.\n",
    "7. Calculez et affichez le nombre de nombres dans la liste qui sont supérieurs à la moyenne."
   ]
  }
 ],
 "metadata": {
  "celltoolbar": "Slideshow",
  "kernelspec": {
   "display_name": "Python 3 (ipykernel)",
   "language": "python",
   "name": "python3"
  },
  "language_info": {
   "codemirror_mode": {
    "name": "ipython",
    "version": 3
   },
   "file_extension": ".py",
   "mimetype": "text/x-python",
   "name": "python",
   "nbconvert_exporter": "python",
   "pygments_lexer": "ipython3",
   "version": "3.11.0"
  }
 },
 "nbformat": 4,
 "nbformat_minor": 2
}
