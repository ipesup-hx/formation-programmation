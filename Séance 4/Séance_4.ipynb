{
 "cells": [
  {
   "cell_type": "markdown",
   "metadata": {
    "slideshow": {
     "slide_type": "slide"
    }
   },
   "source": [
    "# Séance 4 : Interagir avec des fichiers"
   ]
  },
  {
   "cell_type": "markdown",
   "metadata": {
    "slideshow": {
     "slide_type": "slide"
    }
   },
   "source": [
    "## Lecture et écriture de fichiers"
   ]
  },
  {
   "cell_type": "markdown",
   "metadata": {
    "slideshow": {
     "slide_type": "subslide"
    }
   },
   "source": [
    "#### Exercice 1 : Ecriture sur un fichier texte\n",
    "\n",
    "On reprend l'exercice 2 de la séance 4 (formatage de facture). On souhaite cette fois-ci écrire dans un fichier le récapitulatif complet des factures présentes dans la liste `factures`."
   ]
  },
  {
   "cell_type": "markdown",
   "metadata": {
    "slideshow": {
     "slide_type": "fragment"
    }
   },
   "source": [
    "1. Modifier la fonction `formatage` pour qu'elle renvoie la chaîne de caractères correspondant au formatage de la facture, au lieu de l'afficher.\n",
    "2. En utilisant cette fonction formatage modifiée, écrire le récapitulatif dans un fichier texte.\n",
    "3. Modifier le code précédent pour écrire chaque facture dans un fichier séparé."
   ]
  },
  {
   "cell_type": "markdown",
   "metadata": {
    "slideshow": {
     "slide_type": "slide"
    }
   },
   "source": [
    "## Manipulation de fichiers binaires"
   ]
  },
  {
   "cell_type": "markdown",
   "metadata": {
    "slideshow": {
     "slide_type": "subslide"
    }
   },
   "source": [
    "### Exercice 2 : Manipulation de fichiers pdf"
   ]
  },
  {
   "cell_type": "markdown",
   "metadata": {
    "slideshow": {
     "slide_type": "fragment"
    }
   },
   "source": [
    "#### Utilisation de la librairie `PyPDF2`\n",
    "\n",
    "##### Installation de `PyPDF2`"
   ]
  },
  {
   "cell_type": "code",
   "execution_count": null,
   "metadata": {},
   "outputs": [],
   "source": [
    "!python -m pip install PyPDF2"
   ]
  },
  {
   "cell_type": "markdown",
   "metadata": {
    "slideshow": {
     "slide_type": "subslide"
    }
   },
   "source": [
    "##### Fusion de fichiers pdf"
   ]
  },
  {
   "cell_type": "code",
   "execution_count": null,
   "metadata": {},
   "outputs": [],
   "source": [
    "import PyPDF2\n",
    "\n",
    "filenames = [\n",
    "    # liste des noms des fichiers à fusionner (avec l'extension)\n",
    "]\n",
    "\n",
    "output_filename = \"\"  # nom du fichier fusionné (avec l'extension)\n",
    "\n",
    "merger = PyPDF2.PdfMerger()\n",
    "for filename in filenames:\n",
    "    merger.append(filename)\n",
    "merger.write(output_filename)\n",
    "merger.close"
   ]
  },
  {
   "cell_type": "markdown",
   "metadata": {
    "slideshow": {
     "slide_type": "subslide"
    }
   },
   "source": [
    "##### Lecture des pages d'un fichier pdf"
   ]
  },
  {
   "cell_type": "code",
   "execution_count": null,
   "metadata": {},
   "outputs": [],
   "source": [
    "reader = PyPDF2.PdfReader(filename)\n",
    "reader.pages  # liste des pages\n",
    "reader.pages[0]  # première page"
   ]
  },
  {
   "cell_type": "markdown",
   "metadata": {
    "slideshow": {
     "slide_type": "subslide"
    }
   },
   "source": [
    "##### Construction d'un fichier pdf page par page"
   ]
  },
  {
   "cell_type": "code",
   "execution_count": null,
   "metadata": {},
   "outputs": [],
   "source": [
    "writer = PyPDF2.PdfWriter()\n",
    "\n",
    "pages = [\n",
    "    # liste des pages à ajouter\n",
    "]\n",
    "\n",
    "output_filename = \"\"  # nom du fichier construit (avec l'extension)\n",
    "\n",
    "for page in pages:\n",
    "    writer.add_page(page)\n",
    "with open(output_filename, 'wb') as file:\n",
    "    writer.write(file)"
   ]
  },
  {
   "cell_type": "markdown",
   "metadata": {
    "slideshow": {
     "slide_type": "slide"
    }
   },
   "source": [
    "### Exercice 2\n",
    "\n",
    "On dispose de plusieurs fichiers pdf que l'on souhaite imprimer en recto-verso en lançant une unique impression.\n",
    "\n",
    "1. Pourquoi est-ce qu'il ne suffit pas de les fusionner puis d'imprimer le fichier fusionné ? Quelle stratégie peut-on employer ?"
   ]
  },
  {
   "cell_type": "markdown",
   "metadata": {
    "slideshow": {
     "slide_type": "fragment"
    }
   },
   "source": [
    "2. Ecrire une fonction `needs_blank_page` qui prend en entrée le nom d'un fichier pdf qui renvoie `True` si le document nécessite l'ajout d'une page blanche supplémentaire, `False` sinon.\n",
    "3. Ecrire une fonction `adds_blank_page` qui prend en entrée le nom d'un fichier pdf et construit le document avec éventuellement une page blanche ajoutée ou non à la fin, si nécessaire. Deux stratégies sont possibles :\n",
    "   * renvoyer la liste des pages du document\n",
    "   * écrire le document sur le disque\n",
    "Quelle stratégie vous paraît être la plus simple ? La plus coûteuse en calcul/mémoire ?\n",
    "Pour la suite, on emploiera la première stratégie. La deuxième peut être réalisée en autonomie pour s'entraîner.\n"
   ]
  },
  {
   "cell_type": "markdown",
   "metadata": {
    "slideshow": {
     "slide_type": "subslide"
    }
   },
   "source": [
    "4. Ecrire une fonction `build_document` qui prend en argument une liste de pages, construit et écrit sur le disque le document pdf fusionné à partir de ces pages.\n",
    "5. Ecrire une fonction `merge_for_print` qui prend en argument une liste de noms de fichiers pdf, construit et écrit sur le disque le document pdf fusionné ayant ajouté si nécessaire des pages blanches, pour qu'une unique impression recto-verso de l'ensemble des documents fournis soit possible.\n",
    "6. Tester cette fonction sur les fichiers présents dans le dossier `Copies - informatique` du Drive (à téléchargement en local au préalable)."
   ]
  }
 ],
 "metadata": {
  "celltoolbar": "Slideshow",
  "kernelspec": {
   "display_name": "Python 3",
   "language": "python",
   "name": "python3"
  },
  "language_info": {
   "codemirror_mode": {
    "name": "ipython",
    "version": 3
   },
   "file_extension": ".py",
   "mimetype": "text/x-python",
   "name": "python",
   "nbconvert_exporter": "python",
   "pygments_lexer": "ipython3",
   "version": "3.11.0"
  }
 },
 "nbformat": 4,
 "nbformat_minor": 2
}
