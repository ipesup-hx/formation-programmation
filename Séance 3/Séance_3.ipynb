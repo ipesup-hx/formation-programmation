{
 "cells": [
  {
   "cell_type": "markdown",
   "metadata": {
    "slideshow": {
     "slide_type": "slide"
    }
   },
   "source": [
    "# Séance 3 : Organiser son code : fonctions et principes de programmation"
   ]
  },
  {
   "cell_type": "markdown",
   "metadata": {
    "slideshow": {
     "slide_type": "slide"
    }
   },
   "source": [
    "## Fonctions"
   ]
  },
  {
   "cell_type": "markdown",
   "metadata": {
    "slideshow": {
     "slide_type": "subslide"
    }
   },
   "source": [
    "#### Exercice 1 : calcul du salaire horaire\n",
    "\n",
    "Vous devez créer un programme qui calcule le salaire horaire d'un employé, en fonction de son salaire annuel et de son nombre d'heures travaillées par semaine. Le programme doit utiliser des fonctions pour effectuer les calculs."
   ]
  },
  {
   "cell_type": "markdown",
   "metadata": {
    "slideshow": {
     "slide_type": "subslide"
    }
   },
   "source": [
    "1. Créez une fonction appelée `salaire_mensuel(salaire_annuel)` qui prend en paramètre un salaire annuel et retourne le salaire mensuel correspondant en divisant le salaire annuel par 12.  \n",
    "2. Créez une fonction appelée `salaire_hebdomadaire(salaire_mensuel)` qui prend en paramètre un salaire mensuel et retourne le salaire hebdomadaire correspondant en divisant le salaire mensuel par 4.  \n",
    "3. Créez une fonction appelée `salaire_horaire(salaire_hebdomadaire, heures_travaillees)` qui prend en paramètres un salaire hebdomadaire et le nombre d'heures travaillées par semaine, et retourne le salaire horaire correspondant en divisant le salaire hebdomadaire par le nombre d'heures travaillées par semaine.  \n",
    "4. Demandez à l'utilisateur de saisir son salaire annuel.  \n",
    "5. Demandez à l'utilisateur de saisir le nombre d'heures travaillées par semaine.  \n",
    "6. Appelez les fonctions précédemment créées pour calculer le salaire horaire correspondant.  \n",
    "7. Affichez le résultat sous la forme : \"Votre salaire horaire est de XX euros\"."
   ]
  },
  {
   "cell_type": "markdown",
   "metadata": {
    "slideshow": {
     "slide_type": "subslide"
    }
   },
   "source": [
    "#### Exercice 2 : Formatage de facture\n",
    "\n",
    "Vous devez créer un programme qui formate les informations d'une facture à partir des informations suivantes : numéro de facture, nom du client, montant HT, taux de TVA. On souhaite afficher un récapitulatif de la facture sous le format présenté en exemple ci-dessous :\n",
    "\n",
    "Facture #20240301  \n",
    "Client : Entreprise ABC  \n",
    "Montant HT : 1000.0 €  \n",
    "TVA (20%) : 200.0 €  \n",
    "Montant TTC : 1200.0 €"
   ]
  },
  {
   "cell_type": "markdown",
   "metadata": {},
   "source": [
    "1. Ecrire une fonction qui prend en entrée le montant HT et le taux de TVA et renvoie la TVA et le montant TTC.\n",
    "2. Ecrire la fonction de formatage.  \n",
    "   *On utilisera `\\n` pour sauter une ligne dans une chaîne de caractères*\n",
    "\n",
    "Rappel : les `f`-strings permettent de faciliter les remplacements dans les chaînes de caractères."
   ]
  },
  {
   "cell_type": "markdown",
   "metadata": {
    "slideshow": {
     "slide_type": "subslide"
    }
   },
   "source": [
    "Votre gestionnaire de facturation vous fournit un ensemble de factures sous la forme d'une liste de dictionnaires de la forme suivante :\n",
    "\n",
    "{\n",
    "    \"numero\": \\<numéro de facture\\>,  \n",
    "    \"client\": \\<nom du client\\>,  \n",
    "    \"montant HT\": \\<montant HT\\>,  \n",
    "    \"taux TVA\": \\<taux TVA\\>  \n",
    "}\n",
    "\n",
    "Les valeurs \\<numéro de facture\\> et \\<nom du client\\> sont des chaînes de caractères. Les valeurs \\<montant HT\\> et \\<taux TVA\\> sont des flottants. \n",
    "\n",
    "La liste des factures est disponible dans le notebook."
   ]
  },
  {
   "cell_type": "markdown",
   "metadata": {
    "slideshow": {
     "slide_type": "notes"
    }
   },
   "source": [
    "(et, pour la curiosité, le script qui a permis de les générer) :"
   ]
  },
  {
   "cell_type": "code",
   "execution_count": 5,
   "metadata": {
    "slideshow": {
     "slide_type": "notes"
    }
   },
   "outputs": [],
   "source": [
    "import random\n",
    "import faker\n",
    "\n",
    "def generer_factures(n=100):\n",
    "    fake = faker.Faker(\"fr_FR\")\n",
    "    factures = []\n",
    "    \n",
    "    for _ in range(n):\n",
    "        facture = {\n",
    "            \"numero\": fake.unique.random_int(min=20240001, max=20249999),\n",
    "            \"client\": fake.company(),\n",
    "            \"montant HT\": round(random.uniform(100, 10000), 2),\n",
    "            \"taux TVA\": random.choice([5.5, 10, 20])\n",
    "        }\n",
    "        factures.append(facture)\n",
    "    \n",
    "    return factures\n"
   ]
  },
  {
   "cell_type": "code",
   "execution_count": 6,
   "metadata": {},
   "outputs": [],
   "source": [
    "facture = {'numero': 20244452,\n",
    "  'client': 'Gosselin Dos Santos et Fils',\n",
    "  'montant HT': 8778.79,\n",
    "  'taux TVA': 5.5}"
   ]
  },
  {
   "cell_type": "code",
   "execution_count": 4,
   "metadata": {
    "slideshow": {
     "slide_type": "notes"
    }
   },
   "outputs": [],
   "source": [
    "factures = [{'numero': 20244452,\n",
    "  'client': 'Gosselin Dos Santos et Fils',\n",
    "  'montant HT': 8778.79,\n",
    "  'taux TVA': 5.5},\n",
    " {'numero': 20242729,\n",
    "  'client': 'Mace',\n",
    "  'montant HT': 3470.43,\n",
    "  'taux TVA': 5.5},\n",
    " {'numero': 20248771,\n",
    "  'client': 'Martinez',\n",
    "  'montant HT': 4950.61,\n",
    "  'taux TVA': 10},\n",
    " {'numero': 20241392,\n",
    "  'client': 'Muller',\n",
    "  'montant HT': 9950.91,\n",
    "  'taux TVA': 5.5},\n",
    " {'numero': 20246097,\n",
    "  'client': 'Benoit',\n",
    "  'montant HT': 2706.19,\n",
    "  'taux TVA': 10},\n",
    " {'numero': 20242300,\n",
    "  'client': 'Foucher Bousquet S.A.',\n",
    "  'montant HT': 3899.58,\n",
    "  'taux TVA': 20},\n",
    " {'numero': 20245848,\n",
    "  'client': 'Ribeiro Garnier S.A.S.',\n",
    "  'montant HT': 1814.67,\n",
    "  'taux TVA': 20},\n",
    " {'numero': 20245305,\n",
    "  'client': 'Leroux Renaud SA',\n",
    "  'montant HT': 5875.04,\n",
    "  'taux TVA': 5.5},\n",
    " {'numero': 20241484,\n",
    "  'client': 'Picard',\n",
    "  'montant HT': 4086.73,\n",
    "  'taux TVA': 10},\n",
    " {'numero': 20248391,\n",
    "  'client': 'Charles S.A.',\n",
    "  'montant HT': 941.18,\n",
    "  'taux TVA': 5.5},\n",
    " {'numero': 20248780,\n",
    "  'client': 'Rivière S.A.',\n",
    "  'montant HT': 4454.4,\n",
    "  'taux TVA': 10},\n",
    " {'numero': 20242597,\n",
    "  'client': 'Mercier',\n",
    "  'montant HT': 6045.26,\n",
    "  'taux TVA': 10},\n",
    " {'numero': 20248269,\n",
    "  'client': 'Petit',\n",
    "  'montant HT': 8753.49,\n",
    "  'taux TVA': 5.5},\n",
    " {'numero': 20248098,\n",
    "  'client': 'Raynaud',\n",
    "  'montant HT': 4684.33,\n",
    "  'taux TVA': 5.5},\n",
    " {'numero': 20243988,\n",
    "  'client': 'Lenoir',\n",
    "  'montant HT': 6227.34,\n",
    "  'taux TVA': 10},\n",
    " {'numero': 20242858,\n",
    "  'client': 'Tessier S.A.R.L.',\n",
    "  'montant HT': 1534.66,\n",
    "  'taux TVA': 5.5},\n",
    " {'numero': 20242350,\n",
    "  'client': 'Paris',\n",
    "  'montant HT': 6268.54,\n",
    "  'taux TVA': 20},\n",
    " {'numero': 20243698,\n",
    "  'client': 'Nguyen SA',\n",
    "  'montant HT': 8516.23,\n",
    "  'taux TVA': 20},\n",
    " {'numero': 20247160,\n",
    "  'client': 'Bourgeois',\n",
    "  'montant HT': 6390.43,\n",
    "  'taux TVA': 20},\n",
    " {'numero': 20247540,\n",
    "  'client': 'Marin',\n",
    "  'montant HT': 5278.39,\n",
    "  'taux TVA': 5.5},\n",
    " {'numero': 20240781,\n",
    "  'client': 'Schmitt SARL',\n",
    "  'montant HT': 1043.55,\n",
    "  'taux TVA': 10},\n",
    " {'numero': 20247546,\n",
    "  'client': 'Simon S.A.',\n",
    "  'montant HT': 8471.32,\n",
    "  'taux TVA': 5.5},\n",
    " {'numero': 20244303,\n",
    "  'client': 'Gaudin',\n",
    "  'montant HT': 8176.46,\n",
    "  'taux TVA': 20},\n",
    " {'numero': 20249636,\n",
    "  'client': 'Descamps',\n",
    "  'montant HT': 7452.39,\n",
    "  'taux TVA': 10},\n",
    " {'numero': 20249539,\n",
    "  'client': 'Rossi',\n",
    "  'montant HT': 5003.25,\n",
    "  'taux TVA': 10},\n",
    " {'numero': 20241588,\n",
    "  'client': 'Gaillard Morel SARL',\n",
    "  'montant HT': 9696.87,\n",
    "  'taux TVA': 10},\n",
    " {'numero': 20247123,\n",
    "  'client': 'Gallet',\n",
    "  'montant HT': 927.54,\n",
    "  'taux TVA': 20},\n",
    " {'numero': 20246981,\n",
    "  'client': 'Robin Gaillard S.A.S.',\n",
    "  'montant HT': 9539.06,\n",
    "  'taux TVA': 5.5},\n",
    " {'numero': 20247872,\n",
    "  'client': 'Simon Payet S.A.S.',\n",
    "  'montant HT': 554.84,\n",
    "  'taux TVA': 20},\n",
    " {'numero': 20246818,\n",
    "  'client': 'Bourdon Gilbert S.A.',\n",
    "  'montant HT': 951.49,\n",
    "  'taux TVA': 5.5},\n",
    " {'numero': 20241171,\n",
    "  'client': 'Auger',\n",
    "  'montant HT': 9560.91,\n",
    "  'taux TVA': 20},\n",
    " {'numero': 20241430,\n",
    "  'client': 'Morin et Fils',\n",
    "  'montant HT': 7695.91,\n",
    "  'taux TVA': 5.5},\n",
    " {'numero': 20244655,\n",
    "  'client': 'Bernard Guillaume SARL',\n",
    "  'montant HT': 1645.85,\n",
    "  'taux TVA': 10},\n",
    " {'numero': 20243662,\n",
    "  'client': 'Michel',\n",
    "  'montant HT': 8123.07,\n",
    "  'taux TVA': 20},\n",
    " {'numero': 20247710, 'client': 'Rémy', 'montant HT': 9798.22, 'taux TVA': 10},\n",
    " {'numero': 20249753,\n",
    "  'client': 'David',\n",
    "  'montant HT': 3247.04,\n",
    "  'taux TVA': 10},\n",
    " {'numero': 20241061,\n",
    "  'client': 'Colas',\n",
    "  'montant HT': 6329.13,\n",
    "  'taux TVA': 10},\n",
    " {'numero': 20243200,\n",
    "  'client': 'Maillard et Fils',\n",
    "  'montant HT': 3819.43,\n",
    "  'taux TVA': 20},\n",
    " {'numero': 20249393,\n",
    "  'client': 'Perez',\n",
    "  'montant HT': 3841.04,\n",
    "  'taux TVA': 10},\n",
    " {'numero': 20247419,\n",
    "  'client': 'Martinez SARL',\n",
    "  'montant HT': 6623.12,\n",
    "  'taux TVA': 20},\n",
    " {'numero': 20249930,\n",
    "  'client': 'Blanchard',\n",
    "  'montant HT': 7973.47,\n",
    "  'taux TVA': 10},\n",
    " {'numero': 20242364,\n",
    "  'client': 'Masse',\n",
    "  'montant HT': 2482.99,\n",
    "  'taux TVA': 10},\n",
    " {'numero': 20248037,\n",
    "  'client': 'Munoz',\n",
    "  'montant HT': 2979.09,\n",
    "  'taux TVA': 20},\n",
    " {'numero': 20240446,\n",
    "  'client': 'Lopes',\n",
    "  'montant HT': 5507.63,\n",
    "  'taux TVA': 20},\n",
    " {'numero': 20245634,\n",
    "  'client': 'Charrier',\n",
    "  'montant HT': 751.31,\n",
    "  'taux TVA': 20},\n",
    " {'numero': 20243920,\n",
    "  'client': 'Clément SARL',\n",
    "  'montant HT': 9283.58,\n",
    "  'taux TVA': 10},\n",
    " {'numero': 20240079,\n",
    "  'client': 'Roy Royer SA',\n",
    "  'montant HT': 2763.9,\n",
    "  'taux TVA': 20},\n",
    " {'numero': 20240712,\n",
    "  'client': 'Carpentier',\n",
    "  'montant HT': 3176.83,\n",
    "  'taux TVA': 10},\n",
    " {'numero': 20249486,\n",
    "  'client': 'Le Roux',\n",
    "  'montant HT': 4350.9,\n",
    "  'taux TVA': 20},\n",
    " {'numero': 20245074,\n",
    "  'client': 'Dumas',\n",
    "  'montant HT': 9061.64,\n",
    "  'taux TVA': 20},\n",
    " {'numero': 20247460,\n",
    "  'client': 'Duhamel',\n",
    "  'montant HT': 4679.38,\n",
    "  'taux TVA': 10},\n",
    " {'numero': 20248686,\n",
    "  'client': 'Da Silva',\n",
    "  'montant HT': 335.32,\n",
    "  'taux TVA': 10},\n",
    " {'numero': 20245055,\n",
    "  'client': 'Richard S.A.',\n",
    "  'montant HT': 8663.08,\n",
    "  'taux TVA': 5.5},\n",
    " {'numero': 20245356,\n",
    "  'client': 'Royer',\n",
    "  'montant HT': 1978.93,\n",
    "  'taux TVA': 10},\n",
    " {'numero': 20247246,\n",
    "  'client': 'Brun S.A.S.',\n",
    "  'montant HT': 4890.25,\n",
    "  'taux TVA': 10},\n",
    " {'numero': 20247978,\n",
    "  'client': 'Normand Richard SARL',\n",
    "  'montant HT': 3657.34,\n",
    "  'taux TVA': 5.5},\n",
    " {'numero': 20245050,\n",
    "  'client': 'Riou',\n",
    "  'montant HT': 5627.98,\n",
    "  'taux TVA': 5.5},\n",
    " {'numero': 20246217,\n",
    "  'client': 'Leblanc',\n",
    "  'montant HT': 3184.5,\n",
    "  'taux TVA': 10},\n",
    " {'numero': 20247616,\n",
    "  'client': 'Leclercq Rossi S.A.',\n",
    "  'montant HT': 8257.49,\n",
    "  'taux TVA': 5.5},\n",
    " {'numero': 20242070,\n",
    "  'client': 'Guichard S.A.',\n",
    "  'montant HT': 9226.97,\n",
    "  'taux TVA': 10},\n",
    " {'numero': 20249889,\n",
    "  'client': 'Chauvet',\n",
    "  'montant HT': 9297.08,\n",
    "  'taux TVA': 10},\n",
    " {'numero': 20244355,\n",
    "  'client': 'Leconte',\n",
    "  'montant HT': 8342.72,\n",
    "  'taux TVA': 5.5},\n",
    " {'numero': 20243435,\n",
    "  'client': 'Cohen',\n",
    "  'montant HT': 2058.36,\n",
    "  'taux TVA': 20},\n",
    " {'numero': 20248838,\n",
    "  'client': 'Gros',\n",
    "  'montant HT': 3439.34,\n",
    "  'taux TVA': 5.5},\n",
    " {'numero': 20244702,\n",
    "  'client': 'Diallo et Fils',\n",
    "  'montant HT': 4355.85,\n",
    "  'taux TVA': 20},\n",
    " {'numero': 20242190,\n",
    "  'client': 'Benard Legrand SA',\n",
    "  'montant HT': 9710.91,\n",
    "  'taux TVA': 5.5},\n",
    " {'numero': 20244459, 'client': 'Adam', 'montant HT': 5919.4, 'taux TVA': 20},\n",
    " {'numero': 20244244,\n",
    "  'client': 'Seguin',\n",
    "  'montant HT': 9006.82,\n",
    "  'taux TVA': 20},\n",
    " {'numero': 20249852,\n",
    "  'client': 'Chartier',\n",
    "  'montant HT': 2361.08,\n",
    "  'taux TVA': 5.5},\n",
    " {'numero': 20241594,\n",
    "  'client': 'Durand et Fils',\n",
    "  'montant HT': 3762.16,\n",
    "  'taux TVA': 5.5},\n",
    " {'numero': 20247559,\n",
    "  'client': 'Lagarde SARL',\n",
    "  'montant HT': 8577.99,\n",
    "  'taux TVA': 5.5},\n",
    " {'numero': 20242529,\n",
    "  'client': 'Cordier SARL',\n",
    "  'montant HT': 6947.33,\n",
    "  'taux TVA': 10},\n",
    " {'numero': 20242305,\n",
    "  'client': 'Alexandre et Fils',\n",
    "  'montant HT': 4694.4,\n",
    "  'taux TVA': 5.5},\n",
    " {'numero': 20246522,\n",
    "  'client': 'Raymond Coste et Fils',\n",
    "  'montant HT': 3049.51,\n",
    "  'taux TVA': 10},\n",
    " {'numero': 20245466,\n",
    "  'client': 'Masson',\n",
    "  'montant HT': 7206.46,\n",
    "  'taux TVA': 10},\n",
    " {'numero': 20245712,\n",
    "  'client': 'Delannoy Pierre SARL',\n",
    "  'montant HT': 7528.48,\n",
    "  'taux TVA': 20},\n",
    " {'numero': 20245385,\n",
    "  'client': 'Godard S.A.R.L.',\n",
    "  'montant HT': 3840.38,\n",
    "  'taux TVA': 5.5},\n",
    " {'numero': 20240243,\n",
    "  'client': 'Weiss Brunet S.A.',\n",
    "  'montant HT': 2454.02,\n",
    "  'taux TVA': 5.5},\n",
    " {'numero': 20249396,\n",
    "  'client': 'Hardy S.A.',\n",
    "  'montant HT': 7855.39,\n",
    "  'taux TVA': 5.5},\n",
    " {'numero': 20240896,\n",
    "  'client': 'Vaillant S.A.R.L.',\n",
    "  'montant HT': 1834.61,\n",
    "  'taux TVA': 5.5},\n",
    " {'numero': 20240843,\n",
    "  'client': 'Godard',\n",
    "  'montant HT': 2787.79,\n",
    "  'taux TVA': 10},\n",
    " {'numero': 20245277,\n",
    "  'client': 'Delannoy S.A.S.',\n",
    "  'montant HT': 9284.81,\n",
    "  'taux TVA': 5.5},\n",
    " {'numero': 20241329,\n",
    "  'client': 'Albert et Fils',\n",
    "  'montant HT': 8232.96,\n",
    "  'taux TVA': 10},\n",
    " {'numero': 20243675,\n",
    "  'client': 'Teixeira SA',\n",
    "  'montant HT': 9916.79,\n",
    "  'taux TVA': 5.5},\n",
    " {'numero': 20245570,\n",
    "  'client': 'Gaillard Rousseau S.A.S.',\n",
    "  'montant HT': 7166.78,\n",
    "  'taux TVA': 10},\n",
    " {'numero': 20243683,\n",
    "  'client': 'Cousin',\n",
    "  'montant HT': 9794.78,\n",
    "  'taux TVA': 20},\n",
    " {'numero': 20248931,\n",
    "  'client': 'Klein',\n",
    "  'montant HT': 5253.24,\n",
    "  'taux TVA': 10},\n",
    " {'numero': 20245077,\n",
    "  'client': 'Pages Brun SARL',\n",
    "  'montant HT': 9498.28,\n",
    "  'taux TVA': 10},\n",
    " {'numero': 20248298,\n",
    "  'client': 'Turpin',\n",
    "  'montant HT': 4029.84,\n",
    "  'taux TVA': 10},\n",
    " {'numero': 20248167,\n",
    "  'client': 'Da Costa Leleu SARL',\n",
    "  'montant HT': 6476.55,\n",
    "  'taux TVA': 10},\n",
    " {'numero': 20245959,\n",
    "  'client': 'Vallet',\n",
    "  'montant HT': 6755.78,\n",
    "  'taux TVA': 20},\n",
    " {'numero': 20247344, 'client': 'Lenoir', 'montant HT': 812.8, 'taux TVA': 20},\n",
    " {'numero': 20246943,\n",
    "  'client': 'Hubert Vaillant S.A.R.L.',\n",
    "  'montant HT': 876.39,\n",
    "  'taux TVA': 5.5},\n",
    " {'numero': 20249214,\n",
    "  'client': 'Coulon SARL',\n",
    "  'montant HT': 2527.8,\n",
    "  'taux TVA': 20},\n",
    " {'numero': 20242357,\n",
    "  'client': 'Mace S.A.S.',\n",
    "  'montant HT': 9188.35,\n",
    "  'taux TVA': 10},\n",
    " {'numero': 20245951,\n",
    "  'client': 'Michaud',\n",
    "  'montant HT': 1846.91,\n",
    "  'taux TVA': 10},\n",
    " {'numero': 20244819,\n",
    "  'client': 'Grenier Pereira S.A.R.L.',\n",
    "  'montant HT': 269.71,\n",
    "  'taux TVA': 5.5},\n",
    " {'numero': 20243830,\n",
    "  'client': 'Lejeune',\n",
    "  'montant HT': 6816.79,\n",
    "  'taux TVA': 5.5},\n",
    " {'numero': 20244011,\n",
    "  'client': 'Normand Lenoir et Fils',\n",
    "  'montant HT': 7911.45,\n",
    "  'taux TVA': 5.5},\n",
    " {'numero': 20240868,\n",
    "  'client': 'Bonnet S.A.S.',\n",
    "  'montant HT': 3732.36,\n",
    "  'taux TVA': 5.5}]"
   ]
  },
  {
   "cell_type": "markdown",
   "metadata": {
    "slideshow": {
     "slide_type": "fragment"
    }
   },
   "source": [
    "3. Afficher l'ensemble de ces factures formatées selon les spécifications des questions 1. et 2. On séparera chaque facture par une ligne composée de tirets."
   ]
  },
  {
   "cell_type": "markdown",
   "metadata": {
    "slideshow": {
     "slide_type": "slide"
    }
   },
   "source": [
    "## Principes de programmation"
   ]
  },
  {
   "cell_type": "markdown",
   "metadata": {
    "slideshow": {
     "slide_type": "subslide"
    }
   },
   "source": [
    "### DRY : *Don't Repeat Yourself*"
   ]
  },
  {
   "cell_type": "markdown",
   "metadata": {},
   "source": [
    "Supposons que vous vouliez calculer le salaire net à partir du salaire brut, pour plusieurs employés. Plutôt que de faire :"
   ]
  },
  {
   "cell_type": "code",
   "execution_count": 3,
   "metadata": {},
   "outputs": [
    {
     "name": "stdout",
     "output_type": "stream",
     "text": [
      "1550.0\n",
      "1550.0\n",
      "1570.0\n"
     ]
    }
   ],
   "source": [
    "salaire_brut_Jean = 2000\n",
    "salaire_brut_Max = 2500\n",
    "salaire_brut_Marie = 3000\n",
    "\n",
    "tickets_restau_Jean = 50\n",
    "tickets_restau_Max = 50\n",
    "tickets_restau_Marie = 30\n",
    "\n",
    "salaire_net_Jean = salaire_brut_Jean*0.8 - tickets_restau_Jean\n",
    "salaire_net_Max = salaire_brut_Jean*0.8 - tickets_restau_Max\n",
    "salaire_net_Marie = salaire_brut_Jean*0.8 - tickets_restau_Marie\n",
    "\n",
    "print(salaire_net_Jean)\n",
    "print(salaire_net_Max)\n",
    "print(salaire_net_Marie)"
   ]
  },
  {
   "cell_type": "markdown",
   "metadata": {
    "slideshow": {
     "slide_type": "subslide"
    }
   },
   "source": [
    "on fera plutôt :"
   ]
  },
  {
   "cell_type": "code",
   "execution_count": 2,
   "metadata": {
    "slideshow": {
     "slide_type": "fragment"
    }
   },
   "outputs": [
    {
     "name": "stdout",
     "output_type": "stream",
     "text": [
      "{'Jean': 1550.0, 'Max': 1950.0, 'Marie': 2370.0}\n"
     ]
    }
   ],
   "source": [
    "salaires_bruts = {\n",
    "    \"Jean\": 2000,\n",
    "    \"Max\": 2500,\n",
    "    \"Marie\": 3000\n",
    "}\n",
    "\n",
    "tickets_restau = {\n",
    "    \"Jean\": 50,\n",
    "    \"Max\": 50,\n",
    "    \"Marie\": 30\n",
    "}\n",
    "\n",
    "def salaire_net(salaire_brut, tickets_restau):\n",
    "    return salaire_brut*0.8 - tickets_restau\n",
    "\n",
    "salaires_nets = {}\n",
    "for salarié in [\"Jean\", \"Max\", \"Marie\"]:\n",
    "    salaires_nets[salarié] = salaire_net(\n",
    "        salaires_bruts[salarié],\n",
    "        tickets_restau[salarié]\n",
    "    )\n",
    "\n",
    "print(salaires_nets)"
   ]
  },
  {
   "cell_type": "markdown",
   "metadata": {
    "slideshow": {
     "slide_type": "subslide"
    }
   },
   "source": [
    "### Principe de responsabilité unique"
   ]
  },
  {
   "cell_type": "markdown",
   "metadata": {
    "slideshow": {
     "slide_type": "fragment"
    }
   },
   "source": [
    "Mettons que vous vouliez calculer les taux de conversion pour plusieurs campagnes, et sauvegarder les données dans un fichier CSV."
   ]
  },
  {
   "cell_type": "markdown",
   "metadata": {
    "slideshow": {
     "slide_type": "fragment"
    }
   },
   "source": [
    "Au lieu d’appeler une fonction `calculer_taux_de_conversion_sauvegarder_csv()`, nous allons séparer deux tâches en fonctions séparées :\n",
    "- `calculer_taux_de_conversion()`\n",
    "- `sauvegarder_csv()`"
   ]
  },
  {
   "cell_type": "markdown",
   "metadata": {
    "slideshow": {
     "slide_type": "slide"
    }
   },
   "source": [
    "## Documentation du code"
   ]
  },
  {
   "cell_type": "code",
   "execution_count": 2,
   "metadata": {
    "slideshow": {
     "slide_type": "fragment"
    }
   },
   "outputs": [],
   "source": [
    "def somme(a, b):\n",
    "    \"\"\"\n",
    "    Cette fonction calcule la somme de deux nombres et retourne le résultat.\n",
    "\n",
    "    Parameters:\n",
    "    a (int): le premier nombre\n",
    "    b (int): le deuxième nombre\n",
    "\n",
    "    Returns:\n",
    "    int: la somme de a et b\n",
    "    \"\"\"\n",
    "    return a + b"
   ]
  },
  {
   "cell_type": "code",
   "execution_count": 3,
   "metadata": {
    "slideshow": {
     "slide_type": "fragment"
    }
   },
   "outputs": [
    {
     "name": "stdout",
     "output_type": "stream",
     "text": [
      "Help on function somme in module __main__:\n",
      "\n",
      "somme(a, b)\n",
      "    Cette fonction calcule la somme de deux nombres et retourne le résultat.\n",
      "    \n",
      "    Parameters:\n",
      "    a (int): le premier nombre\n",
      "    b (int): le deuxième nombre\n",
      "    \n",
      "    Returns:\n",
      "    int: la somme de a et b\n",
      "\n"
     ]
    }
   ],
   "source": [
    "help(somme)"
   ]
  }
 ],
 "metadata": {
  "celltoolbar": "Slideshow",
  "kernelspec": {
   "display_name": "Python 3",
   "language": "python",
   "name": "python3"
  },
  "language_info": {
   "codemirror_mode": {
    "name": "ipython",
    "version": 3
   },
   "file_extension": ".py",
   "mimetype": "text/x-python",
   "name": "python",
   "nbconvert_exporter": "python",
   "pygments_lexer": "ipython3",
   "version": "3.11.0"
  }
 },
 "nbformat": 4,
 "nbformat_minor": 2
}
