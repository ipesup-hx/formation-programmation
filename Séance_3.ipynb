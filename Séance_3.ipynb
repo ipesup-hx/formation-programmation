{
 "cells": [
  {
   "cell_type": "markdown",
   "metadata": {},
   "source": [
    "# Séance 3 : Organiser son code : fonctions et principes de programmation"
   ]
  },
  {
   "cell_type": "markdown",
   "metadata": {},
   "source": [
    "#### Exercice 1 : organiser son code à l'aide des fonctions"
   ]
  },
  {
   "cell_type": "markdown",
   "metadata": {},
   "source": [
    "Vous devez créer un programme qui calcule le salaire horaire d'un employé, en fonction de son salaire mensuel et de son nombre d'heures travaillées par semaine. Le programme doit utiliser des fonctions pour effectuer les calculs."
   ]
  },
  {
   "cell_type": "markdown",
   "metadata": {},
   "source": [
    "1. Créez une fonction appelée `salaire_mensuel(salaire_annuel)` qui prend en paramètre un salaire annuel et retourne le salaire mensuel correspondant en divisant le salaire annuel par 12.  \n",
    "2. Créez une fonction appelée `salaire_hebdomadaire(salaire_mensuel)` qui prend en paramètre un salaire mensuel et retourne le salaire hebdomadaire correspondant en divisant le salaire mensuel par 4.  \n",
    "3. Créez une fonction appelée `salaire_horaire(salaire_hebdomadaire, heures_travaillees)` qui prend en paramètres un salaire hebdomadaire et le nombre d'heures travaillées par semaine, et retourne le salaire horaire correspondant en divisant le salaire hebdomadaire par le nombre d'heures travaillées par semaine.  \n",
    "4. Demandez à l'utilisateur de saisir son salaire annuel.  \n",
    "5. Demandez à l'utilisateur de saisir le nombre d'heures travaillées par semaine.  \n",
    "6. Appelez les fonctions précédemment créées pour calculer le salaire horaire correspondant.  \n",
    "7. Affichez le résultat sous la forme : \"Votre salaire horaire est de XX euros\"."
   ]
  },
  {
   "cell_type": "markdown",
   "metadata": {},
   "source": [
    "## Principes de programmation"
   ]
  },
  {
   "cell_type": "markdown",
   "metadata": {},
   "source": [
    "### DRY"
   ]
  },
  {
   "cell_type": "markdown",
   "metadata": {},
   "source": [
    "Admettons que vous vouliez calculer le taux de conversion et l’afficher dans plusieurs campagnes. Vous pouvez le copier et coller pour chaque campagne, comme dans le code ci-dessous :"
   ]
  },
  {
   "cell_type": "code",
   "execution_count": null,
   "metadata": {},
   "outputs": [],
   "source": [
    "taux_de_conversion1 = premiere_campagne['visiteurs'] / premiere_campagne['conversions']\n",
    "taux_de_conversion2 = seconde_campagne['visiteurs'] / seconde_campagne['conversions']\n",
    "taux_de_conversion3 = troisieme_campagne['visiteurs'] / troisieme_campagne['conversions']"
   ]
  },
  {
   "cell_type": "code",
   "execution_count": null,
   "metadata": {},
   "outputs": [],
   "source": [
    "def calculer_taux_de_conversion(campagne):\n",
    "   taux_de_conversion = campagne['visiteurs'] / campagne['conversions']\n",
    "   return taux_de_conversion\n",
    "taux_de_conversion1 = calculer_taux_de_conversion(premiere_campagne)\n",
    "taux_de_conversion2 = calculer_taux_de_conversion(seconde_campagne)\n",
    "taux_de_conversion3 = calculer_taux_de_conversion(troisieme_campagne)"
   ]
  },
  {
   "cell_type": "markdown",
   "metadata": {},
   "source": [
    "### Principe de responsabilité unique"
   ]
  },
  {
   "cell_type": "markdown",
   "metadata": {},
   "source": [
    "Mettons que vous vouliez calculer les taux de conversion pour plusieurs campagnes, et sauvegarder les données dans un fichier CSV."
   ]
  },
  {
   "cell_type": "markdown",
   "metadata": {},
   "source": [
    "Au lieu d’appeler une fonction `calculer_taux_de_conversion_sauvegarder_csv()`, nous allons séparer deux tâches en fonctions séparées :\n",
    "- `calculer_taux_de_conversion()`\n",
    "- `sauvegarder_csv()`"
   ]
  },
  {
   "cell_type": "markdown",
   "metadata": {},
   "source": [
    "## Documentation du code"
   ]
  },
  {
   "cell_type": "code",
   "execution_count": 2,
   "metadata": {},
   "outputs": [],
   "source": [
    "def somme(a, b):\n",
    "    \"\"\"\n",
    "    Cette fonction calcule la somme de deux nombres et retourne le résultat.\n",
    "\n",
    "    Parameters:\n",
    "    a (int): le premier nombre\n",
    "    b (int): le deuxième nombre\n",
    "\n",
    "    Returns:\n",
    "    int: la somme de a et b\n",
    "    \"\"\"\n",
    "    return a + b"
   ]
  },
  {
   "cell_type": "code",
   "execution_count": 3,
   "metadata": {},
   "outputs": [
    {
     "name": "stdout",
     "output_type": "stream",
     "text": [
      "Help on function somme in module __main__:\n",
      "\n",
      "somme(a, b)\n",
      "    Cette fonction calcule la somme de deux nombres et retourne le résultat.\n",
      "    \n",
      "    Parameters:\n",
      "    a (int): le premier nombre\n",
      "    b (int): le deuxième nombre\n",
      "    \n",
      "    Returns:\n",
      "    int: la somme de a et b\n",
      "\n"
     ]
    }
   ],
   "source": [
    "help(somme)"
   ]
  }
 ],
 "metadata": {
  "kernelspec": {
   "display_name": "Python 3",
   "language": "python",
   "name": "python3"
  },
  "language_info": {
   "codemirror_mode": {
    "name": "ipython",
    "version": 3
   },
   "file_extension": ".py",
   "mimetype": "text/x-python",
   "name": "python",
   "nbconvert_exporter": "python",
   "pygments_lexer": "ipython3",
   "version": "3.11.0"
  }
 },
 "nbformat": 4,
 "nbformat_minor": 2
}
