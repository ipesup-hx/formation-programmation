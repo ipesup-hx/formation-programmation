{
 "cells": [
  {
   "cell_type": "markdown",
   "metadata": {
    "slideshow": {
     "slide_type": "slide"
    }
   },
   "source": [
    "# Séance 3 : Organiser son code : fonctions et principes de programmation"
   ]
  },
  {
   "cell_type": "markdown",
   "metadata": {
    "slideshow": {
     "slide_type": "slide"
    }
   },
   "source": [
    "## Fonctions"
   ]
  },
  {
   "cell_type": "markdown",
   "metadata": {
    "slideshow": {
     "slide_type": "subslide"
    }
   },
   "source": [
    "#### Exercice 1 : organiser son code à l'aide des fonctions\n",
    "\n",
    "Vous devez créer un programme qui calcule le salaire horaire d'un employé, en fonction de son salaire mensuel et de son nombre d'heures travaillées par semaine. Le programme doit utiliser des fonctions pour effectuer les calculs."
   ]
  },
  {
   "cell_type": "markdown",
   "metadata": {
    "slideshow": {
     "slide_type": "subslide"
    }
   },
   "source": [
    "1. Créez une fonction appelée `salaire_mensuel(salaire_annuel)` qui prend en paramètre un salaire annuel et retourne le salaire mensuel correspondant en divisant le salaire annuel par 12.  \n",
    "2. Créez une fonction appelée `salaire_hebdomadaire(salaire_mensuel)` qui prend en paramètre un salaire mensuel et retourne le salaire hebdomadaire correspondant en divisant le salaire mensuel par 4.  \n",
    "3. Créez une fonction appelée `salaire_horaire(salaire_hebdomadaire, heures_travaillees)` qui prend en paramètres un salaire hebdomadaire et le nombre d'heures travaillées par semaine, et retourne le salaire horaire correspondant en divisant le salaire hebdomadaire par le nombre d'heures travaillées par semaine.  \n",
    "4. Demandez à l'utilisateur de saisir son salaire annuel.  \n",
    "5. Demandez à l'utilisateur de saisir le nombre d'heures travaillées par semaine.  \n",
    "6. Appelez les fonctions précédemment créées pour calculer le salaire horaire correspondant.  \n",
    "7. Affichez le résultat sous la forme : \"Votre salaire horaire est de XX euros\"."
   ]
  },
  {
   "cell_type": "markdown",
   "metadata": {
    "slideshow": {
     "slide_type": "slide"
    }
   },
   "source": [
    "## Principes de programmation"
   ]
  },
  {
   "cell_type": "markdown",
   "metadata": {
    "slideshow": {
     "slide_type": "subslide"
    }
   },
   "source": [
    "### DRY : *Don't Repeat Yourself*"
   ]
  },
  {
   "cell_type": "markdown",
   "metadata": {},
   "source": [
    "Supposons que vous vouliez calculer le salaire net à partir du salaire brut, pour plusieurs employés. Plutôt que de faire :"
   ]
  },
  {
   "cell_type": "code",
   "execution_count": 3,
   "metadata": {},
   "outputs": [
    {
     "name": "stdout",
     "output_type": "stream",
     "text": [
      "1550.0\n",
      "1550.0\n",
      "1570.0\n"
     ]
    }
   ],
   "source": [
    "salaire_brut_Jean = 2000\n",
    "salaire_brut_Max = 2500\n",
    "salaire_brut_Marie = 3000\n",
    "\n",
    "tickets_restau_Jean = 50\n",
    "tickets_restau_Max = 50\n",
    "tickets_restau_Marie = 30\n",
    "\n",
    "salaire_net_Jean = salaire_brut_Jean*0.8 - tickets_restau_Jean\n",
    "salaire_net_Max = salaire_brut_Jean*0.8 - tickets_restau_Max\n",
    "salaire_net_Marie = salaire_brut_Jean*0.8 - tickets_restau_Marie\n",
    "\n",
    "print(salaire_net_Jean)\n",
    "print(salaire_net_Max)\n",
    "print(salaire_net_Marie)"
   ]
  },
  {
   "cell_type": "markdown",
   "metadata": {
    "slideshow": {
     "slide_type": "subslide"
    }
   },
   "source": [
    "on fera plutôt :"
   ]
  },
  {
   "cell_type": "code",
   "execution_count": 2,
   "metadata": {
    "slideshow": {
     "slide_type": "fragment"
    }
   },
   "outputs": [
    {
     "name": "stdout",
     "output_type": "stream",
     "text": [
      "{'Jean': 1550.0, 'Max': 1950.0, 'Marie': 2370.0}\n"
     ]
    }
   ],
   "source": [
    "salaires_bruts = {\n",
    "    \"Jean\": 2000,\n",
    "    \"Max\": 2500,\n",
    "    \"Marie\": 3000\n",
    "}\n",
    "\n",
    "tickets_restau = {\n",
    "    \"Jean\": 50,\n",
    "    \"Max\": 50,\n",
    "    \"Marie\": 30\n",
    "}\n",
    "\n",
    "def salaire_net(salaire_brut, tickets_restau):\n",
    "    return salaire_brut*0.8 - tickets_restau\n",
    "\n",
    "salaires_nets = {}\n",
    "for salarié in [\"Jean\", \"Max\", \"Marie\"]:\n",
    "    salaires_nets[salarié] = salaire_net(\n",
    "        salaires_bruts[salarié],\n",
    "        tickets_restau[salarié]\n",
    "    )\n",
    "\n",
    "print(salaires_nets)"
   ]
  },
  {
   "cell_type": "markdown",
   "metadata": {
    "slideshow": {
     "slide_type": "subslide"
    }
   },
   "source": [
    "### Principe de responsabilité unique"
   ]
  },
  {
   "cell_type": "markdown",
   "metadata": {
    "slideshow": {
     "slide_type": "fragment"
    }
   },
   "source": [
    "Mettons que vous vouliez calculer les taux de conversion pour plusieurs campagnes, et sauvegarder les données dans un fichier CSV."
   ]
  },
  {
   "cell_type": "markdown",
   "metadata": {
    "slideshow": {
     "slide_type": "fragment"
    }
   },
   "source": [
    "Au lieu d’appeler une fonction `calculer_taux_de_conversion_sauvegarder_csv()`, nous allons séparer deux tâches en fonctions séparées :\n",
    "- `calculer_taux_de_conversion()`\n",
    "- `sauvegarder_csv()`"
   ]
  },
  {
   "cell_type": "markdown",
   "metadata": {
    "slideshow": {
     "slide_type": "slide"
    }
   },
   "source": [
    "## Documentation du code"
   ]
  },
  {
   "cell_type": "code",
   "execution_count": 2,
   "metadata": {
    "slideshow": {
     "slide_type": "fragment"
    }
   },
   "outputs": [],
   "source": [
    "def somme(a, b):\n",
    "    \"\"\"\n",
    "    Cette fonction calcule la somme de deux nombres et retourne le résultat.\n",
    "\n",
    "    Parameters:\n",
    "    a (int): le premier nombre\n",
    "    b (int): le deuxième nombre\n",
    "\n",
    "    Returns:\n",
    "    int: la somme de a et b\n",
    "    \"\"\"\n",
    "    return a + b"
   ]
  },
  {
   "cell_type": "code",
   "execution_count": 3,
   "metadata": {
    "slideshow": {
     "slide_type": "fragment"
    }
   },
   "outputs": [
    {
     "name": "stdout",
     "output_type": "stream",
     "text": [
      "Help on function somme in module __main__:\n",
      "\n",
      "somme(a, b)\n",
      "    Cette fonction calcule la somme de deux nombres et retourne le résultat.\n",
      "    \n",
      "    Parameters:\n",
      "    a (int): le premier nombre\n",
      "    b (int): le deuxième nombre\n",
      "    \n",
      "    Returns:\n",
      "    int: la somme de a et b\n",
      "\n"
     ]
    }
   ],
   "source": [
    "help(somme)"
   ]
  }
 ],
 "metadata": {
  "celltoolbar": "Slideshow",
  "kernelspec": {
   "display_name": "Python 3",
   "language": "python",
   "name": "python3"
  },
  "language_info": {
   "codemirror_mode": {
    "name": "ipython",
    "version": 3
   },
   "file_extension": ".py",
   "mimetype": "text/x-python",
   "name": "python",
   "nbconvert_exporter": "python",
   "pygments_lexer": "ipython3",
   "version": "3.11.0"
  }
 },
 "nbformat": 4,
 "nbformat_minor": 2
}
