{
 "cells": [
  {
   "cell_type": "markdown",
   "metadata": {
    "slideshow": {
     "slide_type": "slide"
    }
   },
   "source": [
    "# Séance 1 : Introduction à la programmation"
   ]
  },
  {
   "cell_type": "markdown",
   "metadata": {
    "slideshow": {
     "slide_type": "slide"
    }
   },
   "source": [
    "## Variables"
   ]
  },
  {
   "cell_type": "markdown",
   "metadata": {
    "slideshow": {
     "slide_type": "subslide"
    }
   },
   "source": [
    "#### Exercice 1 : affichage avec `print`\n",
    "\n",
    "Dans cette exercice, vous allez écrire directement dans un fichier python qui se nomme `main.py`.\n",
    "\n",
    "  1. Utilisez la fonction `print` pour afficher la phrase `\"J'apprends Python !\"`\n",
    "  2. Calculez le résultat de `17 + 35 * 2` et affichez le résultat (Vous pouvez placer le calcul directement dans la fonction `print` pour l'afficher)"
   ]
  },
  {
   "cell_type": "markdown",
   "metadata": {
    "slideshow": {
     "slide_type": "subslide"
    }
   },
   "source": [
    "#### Exercice 2 : déclaration et modification de variables\n",
    "\n",
    "1. Créez une variable nommée `nom` et attribuez-y votre **nom**.\n",
    "2. Créez une variable nommée `age` et attribuez-y votre **âge**.\n",
    "3. Affichez une phrase contenant votre **nom** et votre **âge** en utilisant les variables que vous venez de créer. Par exemple, `\"Je m'appelle Jean et j'ai 25 ans.\"` (Utilisez le f-string)\n",
    "4. Modifiez la valeur de la variable age pour ajouter **10 ans** à votre **âge** actuel.\n",
    "5. Affichez à nouveau la phrase contenant votre **nom** et votre **âge** en utilisant les variables mises à jour. Par exemple, `\"Je m'appelle Jean et j'ai 35 ans maintenant.\"` (Utilisez le f-string)"
   ]
  },
  {
   "cell_type": "markdown",
   "metadata": {
    "slideshow": {
     "slide_type": "slide"
    }
   },
   "source": [
    "## Types"
   ]
  },
  {
   "cell_type": "markdown",
   "metadata": {
    "slideshow": {
     "slide_type": "subslide"
    }
   },
   "source": [
    "#### Exercice 3 : variables de type non mutable\n",
    "\n",
    "1. Définissez une variable `nom` contenant votre **nom** sous forme de chaîne de caractères.\n",
    "2. Définissez une variable `age` contenant votre **âge** sous forme d'un entier.\n",
    "3. Définissez une variable `taille` contenant votre **taille** sous forme d'un nombre à virgule flottante.\n",
    "4. Définissez une variable `est_etudiant` contenant une valeur booléenne et indiquant si vous êtes **étudiant ou non**."
   ]
  },
  {
   "cell_type": "markdown",
   "metadata": {
    "slideshow": {
     "slide_type": "subslide"
    }
   },
   "source": [
    "5. Utilisez la fonction `print` pour afficher les valeurs des variables précédemment définies.\n",
    "\n",
    "Les prints doivent être sous la forme suivantes : \n",
    "* \"Nom: `valeur de la variable nom`\"\n",
    "* \"Age: `valeur de la variable age`\"\n",
    "* \"Taille: `valeur de la variable taille`\"\n",
    "* \"Est étudiant: `valeur de la variable est_etudiant`\"\n",
    "\n",
    "6. Utilisez la fonction `type` pour afficher avec la fonction `print` les types des variables précédemment définies.\n",
    "\n",
    "Les prints doivent être sous la forme suivantes : \n",
    "* \"Type nom: `type de la variable nom`\"\n",
    "* \"Type age: `type de la variable age`\"\n",
    "* \"Type taille: `type de la variable taille`\"\n",
    "* \"Type est étudiant: `type de la variable est_etudiant`\""
   ]
  },
  {
   "cell_type": "markdown",
   "metadata": {
    "slideshow": {
     "slide_type": "subslide"
    }
   },
   "source": [
    "#### Exercice 4 : listes\n",
    "\n",
    "1. **Créez** une liste nommée `fruits` contenant les éléments `\"pomme\"`, `\"banane\"` et `\"orange\"`.\n",
    "2. **Ajoutez** `\"kiwi\"` à la liste `fruits`.\n",
    "3. **Supprimez** `\"orange\"` de la liste `fruits`.\n",
    "4. **Modifiez** le **deuxième** élément de la liste `fruits` en `\"ananas\"`.\n",
    "5. **Affichez** la **longueur** de la liste `fruits`.\n",
    "6. **Triez** la liste `fruits` par ordre alphabétique\n",
    "7. **Affichez** la liste. *(N'oubliez pas d'afficher la liste pour que les tests passent)*"
   ]
  },
  {
   "cell_type": "markdown",
   "metadata": {
    "slideshow": {
     "slide_type": "subslide"
    }
   },
   "source": [
    "#### Exercice 5 : dictionnaires\n",
    "\n",
    "1. **Créez** un **dictionnaire** appelé `fruits` avec les clés `\"pomme\"`, `\"banane\"` et `\"orange\"`, et respectivement les valeurs `\"rouge\"`, `\"jaune\"` et `\"orange\"`.\n",
    "2. **Ajoutez** la clé `\"kiwi\"` avec la valeur `\"vert\"` au dictionnaire `fruits`.\n",
    "3. **Accédez** à la valeur correspondant à la clé `\"banane\"` et stockez-la dans une variable appelée `couleur_banane`.\n",
    "4. **Modifiez** la valeur associée à la clé `\"pomme\"` pour `\"vert\"`.\n",
    "5. **Supprimez** la clé `\"banane\"` du dictionnaire `fruits`.\n",
    "6. **Affichez** les clés restantes dans le dictionnaire."
   ]
  }
 ],
 "metadata": {
  "celltoolbar": "Slideshow",
  "kernelspec": {
   "display_name": "Python 3 (ipykernel)",
   "language": "python",
   "name": "python3"
  },
  "language_info": {
   "codemirror_mode": {
    "name": "ipython",
    "version": 3
   },
   "file_extension": ".py",
   "mimetype": "text/x-python",
   "name": "python",
   "nbconvert_exporter": "python",
   "pygments_lexer": "ipython3",
   "version": "3.11.0"
  }
 },
 "nbformat": 4,
 "nbformat_minor": 2
}
