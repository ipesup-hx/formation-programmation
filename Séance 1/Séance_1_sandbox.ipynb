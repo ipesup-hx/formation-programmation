{
 "cells": [
  {
   "cell_type": "markdown",
   "metadata": {
    "id": "-Jr7GvhDc_w-"
   },
   "source": [
    "# Séance 1 - sandbox"
   ]
  },
  {
   "cell_type": "markdown",
   "metadata": {
    "id": "pENjSud_c_xH"
   },
   "source": [
    "## Variable"
   ]
  },
  {
   "cell_type": "markdown",
   "metadata": {
    "id": "sbd9G3Qac_xJ"
   },
   "source": [
    "Variable = nom + valeur"
   ]
  },
  {
   "cell_type": "code",
   "execution_count": 1,
   "metadata": {
    "executionInfo": {
     "elapsed": 26,
     "status": "ok",
     "timestamp": 1740677497246,
     "user": {
      "displayName": "Laurent ATTIAS",
      "userId": "10616343776833878094"
     },
     "user_tz": -60
    },
    "id": "zBqGlyu3c_xL"
   },
   "outputs": [],
   "source": [
    "a = \"Hello world !\""
   ]
  },
  {
   "cell_type": "code",
   "execution_count": null,
   "metadata": {
    "id": "U8O_ISmAc_xP",
    "outputId": "bf7877d4-dd5e-4ece-f183-e94b8373b5d0"
   },
   "outputs": [
    {
     "data": {
      "text/plain": [
       "'Bonjour'"
      ]
     },
     "execution_count": 6,
     "metadata": {},
     "output_type": "execute_result"
    }
   ],
   "source": [
    "a\n",
    "a\n",
    "a\n",
    "a"
   ]
  },
  {
   "cell_type": "code",
   "execution_count": null,
   "metadata": {
    "id": "w81oG3x2c_xS"
   },
   "outputs": [],
   "source": [
    "a = \"Bonjour\""
   ]
  },
  {
   "cell_type": "markdown",
   "metadata": {
    "id": "b5Dkw4ULc_xT"
   },
   "source": [
    "### Affichage avec `print`"
   ]
  },
  {
   "cell_type": "code",
   "execution_count": 3,
   "metadata": {
    "colab": {
     "base_uri": "https://localhost:8080/"
    },
    "executionInfo": {
     "elapsed": 32,
     "status": "ok",
     "timestamp": 1740677519887,
     "user": {
      "displayName": "Laurent ATTIAS",
      "userId": "10616343776833878094"
     },
     "user_tz": -60
    },
    "id": "Jf-FbY8Ic_xV",
    "outputId": "61b4f77b-e2c3-419d-cd89-220726f5de43"
   },
   "outputs": [
    {
     "name": "stdout",
     "output_type": "stream",
     "text": [
      "Hello world\n"
     ]
    }
   ],
   "source": [
    "print(\"Hello world\")"
   ]
  },
  {
   "cell_type": "code",
   "execution_count": 2,
   "metadata": {
    "colab": {
     "base_uri": "https://localhost:8080/"
    },
    "executionInfo": {
     "elapsed": 10,
     "status": "ok",
     "timestamp": 1740677514160,
     "user": {
      "displayName": "Laurent ATTIAS",
      "userId": "10616343776833878094"
     },
     "user_tz": -60
    },
    "id": "qA9839vJc_xb",
    "outputId": "048f40ed-f298-4777-fd7c-8cf4f507cb6f"
   },
   "outputs": [
    {
     "name": "stdout",
     "output_type": "stream",
     "text": [
      "Hello world !\n"
     ]
    }
   ],
   "source": [
    "print(a)"
   ]
  },
  {
   "cell_type": "code",
   "execution_count": 4,
   "metadata": {
    "colab": {
     "base_uri": "https://localhost:8080/"
    },
    "executionInfo": {
     "elapsed": 18,
     "status": "ok",
     "timestamp": 1740677523026,
     "user": {
      "displayName": "Laurent ATTIAS",
      "userId": "10616343776833878094"
     },
     "user_tz": -60
    },
    "id": "r3s6--S0c_xe",
    "outputId": "9446eb75-a744-474e-986e-20b719a078ef"
   },
   "outputs": [
    {
     "name": "stdout",
     "output_type": "stream",
     "text": [
      "15\n"
     ]
    }
   ],
   "source": [
    "print(15)"
   ]
  },
  {
   "cell_type": "code",
   "execution_count": null,
   "metadata": {
    "id": "B8ebcdfac_xg",
    "outputId": "0954e86c-0e8a-48c8-e6d4-ccd2a141898d"
   },
   "outputs": [
    {
     "data": {
      "text/plain": [
       "107"
      ]
     },
     "execution_count": 11,
     "metadata": {},
     "output_type": "execute_result"
    }
   ],
   "source": [
    "15*7+2"
   ]
  },
  {
   "cell_type": "code",
   "execution_count": null,
   "metadata": {
    "id": "eQau1Eyxc_xj",
    "outputId": "d58577eb-7b54-4690-d201-ff9e588c88e5"
   },
   "outputs": [
    {
     "name": "stdout",
     "output_type": "stream",
     "text": [
      "107\n"
     ]
    }
   ],
   "source": [
    "print(15*7+2)"
   ]
  },
  {
   "cell_type": "markdown",
   "metadata": {
    "id": "7IaCYdubc_xl"
   },
   "source": [
    "### Formatage avec les f-strings"
   ]
  },
  {
   "cell_type": "code",
   "execution_count": null,
   "metadata": {
    "id": "7nhn3keAc_xm",
    "outputId": "cb0bc31b-c218-4f4d-89f9-e8ca9dfc3b9e"
   },
   "outputs": [
    {
     "data": {
      "text/plain": [
       "'Mon premier message en Python est Hello world !'"
      ]
     },
     "execution_count": 16,
     "metadata": {},
     "output_type": "execute_result"
    }
   ],
   "source": [
    "f\"Mon premier message en Python est {a}\""
   ]
  },
  {
   "cell_type": "code",
   "execution_count": null,
   "metadata": {
    "id": "BlQMmlStc_xn",
    "outputId": "f17a355a-2ad7-47a1-f318-7e20272f467e"
   },
   "outputs": [
    {
     "name": "stdout",
     "output_type": "stream",
     "text": [
      "chaine 1chaine 2\n"
     ]
    }
   ],
   "source": [
    "s1 = \"chaine 1\"\n",
    "s2 = \"chaine 2\"\n",
    "\n",
    "s = s1 + s2\n",
    "\n",
    "print(s)"
   ]
  },
  {
   "cell_type": "markdown",
   "metadata": {
    "id": "dMa31pWrc_xu"
   },
   "source": [
    "## Types"
   ]
  },
  {
   "cell_type": "markdown",
   "metadata": {
    "id": "oZngHiWMc_xu"
   },
   "source": [
    "### Types non mutables"
   ]
  },
  {
   "cell_type": "code",
   "execution_count": 5,
   "metadata": {
    "executionInfo": {
     "elapsed": 56,
     "status": "ok",
     "timestamp": 1740677885699,
     "user": {
      "displayName": "Laurent ATTIAS",
      "userId": "10616343776833878094"
     },
     "user_tz": -60
    },
    "id": "Rm9OlCahc_xv"
   },
   "outputs": [],
   "source": [
    "a = 5"
   ]
  },
  {
   "cell_type": "code",
   "execution_count": 6,
   "metadata": {
    "executionInfo": {
     "elapsed": 16,
     "status": "ok",
     "timestamp": 1740677899856,
     "user": {
      "displayName": "Laurent ATTIAS",
      "userId": "10616343776833878094"
     },
     "user_tz": -60
    },
    "id": "Fs07EsZLc_xv"
   },
   "outputs": [],
   "source": [
    "a = 7"
   ]
  },
  {
   "cell_type": "markdown",
   "metadata": {
    "id": "DCOV7iU5c_x1"
   },
   "source": [
    "Types non mutables : entiers, nombres flottants, chaînes de caractères, booléens, tuple"
   ]
  },
  {
   "cell_type": "code",
   "execution_count": null,
   "metadata": {
    "id": "CxsffFiGc_x1"
   },
   "outputs": [],
   "source": [
    "a = 1.2"
   ]
  },
  {
   "cell_type": "code",
   "execution_count": null,
   "metadata": {
    "id": "xccK681rc_x2",
    "outputId": "c2251846-4c82-4fe4-f717-5d3a29385db0"
   },
   "outputs": [
    {
     "data": {
      "text/plain": [
       "True"
      ]
     },
     "execution_count": 21,
     "metadata": {},
     "output_type": "execute_result"
    }
   ],
   "source": [
    "True"
   ]
  },
  {
   "cell_type": "code",
   "execution_count": null,
   "metadata": {
    "id": "b3z0kcpFc_x3",
    "outputId": "f689f8a4-54c6-437f-bbb5-3600694a18e7"
   },
   "outputs": [
    {
     "data": {
      "text/plain": [
       "False"
      ]
     },
     "execution_count": 22,
     "metadata": {},
     "output_type": "execute_result"
    }
   ],
   "source": [
    "False"
   ]
  },
  {
   "cell_type": "code",
   "execution_count": null,
   "metadata": {
    "id": "jkY3ZZVBc_x9"
   },
   "outputs": [],
   "source": [
    "mon_premier_booleen = True"
   ]
  },
  {
   "cell_type": "code",
   "execution_count": null,
   "metadata": {
    "id": "uYHdYM9Jc_x9",
    "outputId": "03af974a-80a0-419f-ac2d-f781edaa6cb9"
   },
   "outputs": [
    {
     "data": {
      "text/plain": [
       "True"
      ]
     },
     "execution_count": 24,
     "metadata": {},
     "output_type": "execute_result"
    }
   ],
   "source": [
    "mon_premier_booleen"
   ]
  },
  {
   "cell_type": "code",
   "execution_count": null,
   "metadata": {
    "id": "TyUoObC9c_x-"
   },
   "outputs": [],
   "source": [
    "t1 = 3, 5\n",
    "t1 = (3, 5)"
   ]
  },
  {
   "cell_type": "code",
   "execution_count": null,
   "metadata": {
    "id": "7fc8nbNsc_yE",
    "outputId": "355c9ece-d3bb-477f-9fca-68d2de99f4e8"
   },
   "outputs": [
    {
     "data": {
      "text/plain": [
       "(3, 5)"
      ]
     },
     "execution_count": 31,
     "metadata": {},
     "output_type": "execute_result"
    }
   ],
   "source": [
    "t1"
   ]
  },
  {
   "cell_type": "code",
   "execution_count": null,
   "metadata": {
    "id": "PltxcJ9Kc_yE",
    "outputId": "f43cb6cf-d2a9-4677-c841-522cdf067267"
   },
   "outputs": [
    {
     "data": {
      "text/plain": [
       "3"
      ]
     },
     "execution_count": 27,
     "metadata": {},
     "output_type": "execute_result"
    }
   ],
   "source": [
    "t1[0]"
   ]
  },
  {
   "cell_type": "code",
   "execution_count": null,
   "metadata": {
    "id": "WVY5e27uc_yF",
    "outputId": "c0e2a9d9-75fb-4cae-b883-26c57d2476e5"
   },
   "outputs": [
    {
     "data": {
      "text/plain": [
       "5"
      ]
     },
     "execution_count": 28,
     "metadata": {},
     "output_type": "execute_result"
    }
   ],
   "source": [
    "t1[1]"
   ]
  },
  {
   "cell_type": "code",
   "execution_count": null,
   "metadata": {
    "id": "_mqszQOtc_yG",
    "outputId": "78fba125-c6da-4910-8faa-741eaa8acf0c"
   },
   "outputs": [
    {
     "data": {
      "text/plain": [
       "2"
      ]
     },
     "execution_count": 29,
     "metadata": {},
     "output_type": "execute_result"
    }
   ],
   "source": [
    "len(t1)"
   ]
  },
  {
   "cell_type": "code",
   "execution_count": null,
   "metadata": {
    "id": "p_RsHzroc_yM",
    "outputId": "62434e53-365e-4e98-9edb-5b389cbb8793"
   },
   "outputs": [
    {
     "ename": "TypeError",
     "evalue": "'tuple' object does not support item assignment",
     "output_type": "error",
     "traceback": [
      "\u001b[1;31m---------------------------------------------------------------------------\u001b[0m",
      "\u001b[1;31mTypeError\u001b[0m                                 Traceback (most recent call last)",
      "\u001b[1;32m~\\AppData\\Local\\Temp\\ipykernel_25300\\2708270998.py\u001b[0m in \u001b[0;36m<cell line: 0>\u001b[1;34m()\u001b[0m\n\u001b[1;32m----> 1\u001b[1;33m \u001b[0mt1\u001b[0m\u001b[1;33m[\u001b[0m\u001b[1;36m0\u001b[0m\u001b[1;33m]\u001b[0m \u001b[1;33m=\u001b[0m \u001b[1;36m1\u001b[0m\u001b[1;33m\u001b[0m\u001b[1;33m\u001b[0m\u001b[0m\n\u001b[0m",
      "\u001b[1;31mTypeError\u001b[0m: 'tuple' object does not support item assignment"
     ]
    }
   ],
   "source": [
    "t1[0] = 1"
   ]
  },
  {
   "cell_type": "markdown",
   "metadata": {
    "id": "8h302Yo-c_yM"
   },
   "source": [
    "Types mutables : listes, dictionnaires"
   ]
  },
  {
   "cell_type": "code",
   "execution_count": 7,
   "metadata": {
    "executionInfo": {
     "elapsed": 53,
     "status": "ok",
     "timestamp": 1740677937007,
     "user": {
      "displayName": "Laurent ATTIAS",
      "userId": "10616343776833878094"
     },
     "user_tz": -60
    },
    "id": "55pATZ5Nc_yN"
   },
   "outputs": [],
   "source": [
    "l = [3, 5]"
   ]
  },
  {
   "cell_type": "code",
   "execution_count": 8,
   "metadata": {
    "colab": {
     "base_uri": "https://localhost:8080/"
    },
    "executionInfo": {
     "elapsed": 9,
     "status": "ok",
     "timestamp": 1740677940202,
     "user": {
      "displayName": "Laurent ATTIAS",
      "userId": "10616343776833878094"
     },
     "user_tz": -60
    },
    "id": "ckm4bL4rc_yS",
    "outputId": "b956fc79-2608-43f4-c6ba-4b88f9e7ea6f"
   },
   "outputs": [
    {
     "data": {
      "text/plain": [
       "3"
      ]
     },
     "execution_count": 8,
     "metadata": {},
     "output_type": "execute_result"
    }
   ],
   "source": [
    "l[0]"
   ]
  },
  {
   "cell_type": "code",
   "execution_count": 9,
   "metadata": {
    "executionInfo": {
     "elapsed": 8,
     "status": "ok",
     "timestamp": 1740677962590,
     "user": {
      "displayName": "Laurent ATTIAS",
      "userId": "10616343776833878094"
     },
     "user_tz": -60
    },
    "id": "gw-SsSK4c_yV"
   },
   "outputs": [],
   "source": [
    "l[0] = 6"
   ]
  },
  {
   "cell_type": "code",
   "execution_count": 10,
   "metadata": {
    "colab": {
     "base_uri": "https://localhost:8080/"
    },
    "executionInfo": {
     "elapsed": 59,
     "status": "ok",
     "timestamp": 1740677972508,
     "user": {
      "displayName": "Laurent ATTIAS",
      "userId": "10616343776833878094"
     },
     "user_tz": -60
    },
    "id": "x_Ao8qK_c_yW",
    "outputId": "fdf26afa-58ed-4089-ef58-76f6011c2b1d"
   },
   "outputs": [
    {
     "data": {
      "text/plain": [
       "[6, 5]"
      ]
     },
     "execution_count": 10,
     "metadata": {},
     "output_type": "execute_result"
    }
   ],
   "source": [
    "l"
   ]
  },
  {
   "cell_type": "code",
   "execution_count": null,
   "metadata": {
    "id": "4WAepDJ3c_yX"
   },
   "outputs": [],
   "source": [
    "l.append(4)"
   ]
  },
  {
   "cell_type": "code",
   "execution_count": null,
   "metadata": {
    "id": "tl35NRu4c_yc",
    "outputId": "0d248c9b-f40b-4edd-d457-63b5d6e7af75"
   },
   "outputs": [
    {
     "data": {
      "text/plain": [
       "[6, 5, 4]"
      ]
     },
     "execution_count": 39,
     "metadata": {},
     "output_type": "execute_result"
    }
   ],
   "source": [
    "l"
   ]
  },
  {
   "cell_type": "code",
   "execution_count": null,
   "metadata": {
    "id": "lStwT-6xc_ye",
    "outputId": "4052a157-bad1-470d-cf6f-66b7f3de944a"
   },
   "outputs": [
    {
     "data": {
      "text/plain": [
       "[6, 5, 4, 'a', 'b']"
      ]
     },
     "execution_count": 40,
     "metadata": {},
     "output_type": "execute_result"
    }
   ],
   "source": [
    "l + [\"a\", \"b\"]"
   ]
  },
  {
   "cell_type": "code",
   "execution_count": null,
   "metadata": {
    "id": "FzSUXLGsc_ys",
    "outputId": "b6542701-f491-45a8-c81f-836688196ef6"
   },
   "outputs": [
    {
     "data": {
      "text/plain": [
       "3"
      ]
     },
     "execution_count": 41,
     "metadata": {},
     "output_type": "execute_result"
    }
   ],
   "source": [
    "len(l)"
   ]
  },
  {
   "cell_type": "code",
   "execution_count": 18,
   "metadata": {
    "executionInfo": {
     "elapsed": 5,
     "status": "ok",
     "timestamp": 1740678189660,
     "user": {
      "displayName": "Laurent ATTIAS",
      "userId": "10616343776833878094"
     },
     "user_tz": -60
    },
    "id": "tBf8Oh-fgUAe"
   },
   "outputs": [],
   "source": [
    "l = [3,4,6]"
   ]
  },
  {
   "cell_type": "code",
   "execution_count": 20,
   "metadata": {
    "colab": {
     "base_uri": "https://localhost:8080/",
     "height": 146
    },
    "executionInfo": {
     "elapsed": 56,
     "status": "error",
     "timestamp": 1740678217953,
     "user": {
      "displayName": "Laurent ATTIAS",
      "userId": "10616343776833878094"
     },
     "user_tz": -60
    },
    "id": "TnSMuH1fgVke",
    "outputId": "3e367bf3-820c-4c72-9fbc-baababa636b2"
   },
   "outputs": [
    {
     "ename": "IndexError",
     "evalue": "list index out of range",
     "output_type": "error",
     "traceback": [
      "\u001b[0;31m---------------------------------------------------------------------------\u001b[0m",
      "\u001b[0;31mIndexError\u001b[0m                                Traceback (most recent call last)",
      "\u001b[0;32m<ipython-input-20-bb49eeb9f0db>\u001b[0m in \u001b[0;36m<cell line: 0>\u001b[0;34m()\u001b[0m\n\u001b[0;32m----> 1\u001b[0;31m \u001b[0ml\u001b[0m\u001b[0;34m[\u001b[0m\u001b[0;36m3\u001b[0m\u001b[0;34m]\u001b[0m\u001b[0;34m\u001b[0m\u001b[0;34m\u001b[0m\u001b[0m\n\u001b[0m",
      "\u001b[0;31mIndexError\u001b[0m: list index out of range"
     ]
    }
   ],
   "source": [
    "l[3]"
   ]
  },
  {
   "cell_type": "code",
   "execution_count": null,
   "metadata": {
    "id": "Oj_j0LbgghiF"
   },
   "outputs": [],
   "source": []
  },
  {
   "cell_type": "markdown",
   "metadata": {
    "id": "GBP3O3DOfqTV"
   },
   "source": [
    "### Dictionnaires"
   ]
  },
  {
   "cell_type": "code",
   "execution_count": 11,
   "metadata": {
    "executionInfo": {
     "elapsed": 53,
     "status": "ok",
     "timestamp": 1740678097661,
     "user": {
      "displayName": "Laurent ATTIAS",
      "userId": "10616343776833878094"
     },
     "user_tz": -60
    },
    "id": "EEIEIQL6fuVh"
   },
   "outputs": [],
   "source": [
    "dico = {\"clé1\": \"valeur1\", \"clé2\": 520}"
   ]
  },
  {
   "cell_type": "code",
   "execution_count": 12,
   "metadata": {
    "colab": {
     "base_uri": "https://localhost:8080/"
    },
    "executionInfo": {
     "elapsed": 22,
     "status": "ok",
     "timestamp": 1740678101692,
     "user": {
      "displayName": "Laurent ATTIAS",
      "userId": "10616343776833878094"
     },
     "user_tz": -60
    },
    "id": "LYY_egqKf_ID",
    "outputId": "1b0095a0-6913-49b7-8125-0e7853bbdee2"
   },
   "outputs": [
    {
     "data": {
      "text/plain": [
       "{'clé1': 'valeur1', 'clé2': 520}"
      ]
     },
     "execution_count": 12,
     "metadata": {},
     "output_type": "execute_result"
    }
   ],
   "source": [
    "dico"
   ]
  },
  {
   "cell_type": "code",
   "execution_count": 13,
   "metadata": {
    "executionInfo": {
     "elapsed": 2,
     "status": "ok",
     "timestamp": 1740678116490,
     "user": {
      "displayName": "Laurent ATTIAS",
      "userId": "10616343776833878094"
     },
     "user_tz": -60
    },
    "id": "RM-eyX7CgATq"
   },
   "outputs": [],
   "source": [
    "dico[\"clé1\"] = \"valeur2\""
   ]
  },
  {
   "cell_type": "code",
   "execution_count": 14,
   "metadata": {
    "colab": {
     "base_uri": "https://localhost:8080/"
    },
    "executionInfo": {
     "elapsed": 10,
     "status": "ok",
     "timestamp": 1740678123448,
     "user": {
      "displayName": "Laurent ATTIAS",
      "userId": "10616343776833878094"
     },
     "user_tz": -60
    },
    "id": "Q-d6poWygEDC",
    "outputId": "5a6eac76-4cc2-42c4-b6fd-657b4a3aea6e"
   },
   "outputs": [
    {
     "data": {
      "text/plain": [
       "{'clé1': 'valeur2', 'clé2': 520}"
      ]
     },
     "execution_count": 14,
     "metadata": {},
     "output_type": "execute_result"
    }
   ],
   "source": [
    "dico"
   ]
  },
  {
   "cell_type": "code",
   "execution_count": 15,
   "metadata": {
    "executionInfo": {
     "elapsed": 18,
     "status": "ok",
     "timestamp": 1740678136610,
     "user": {
      "displayName": "Laurent ATTIAS",
      "userId": "10616343776833878094"
     },
     "user_tz": -60
    },
    "id": "ia85qKedgGKF"
   },
   "outputs": [],
   "source": [
    "dico[\"clé3\"] = \"valeur3\""
   ]
  },
  {
   "cell_type": "code",
   "execution_count": 16,
   "metadata": {
    "colab": {
     "base_uri": "https://localhost:8080/"
    },
    "executionInfo": {
     "elapsed": 79,
     "status": "ok",
     "timestamp": 1740678152426,
     "user": {
      "displayName": "Laurent ATTIAS",
      "userId": "10616343776833878094"
     },
     "user_tz": -60
    },
    "id": "o65x6zXxgLUM",
    "outputId": "24be412e-b014-4bfa-f06d-fa19782996bf"
   },
   "outputs": [
    {
     "data": {
      "text/plain": [
       "{'clé1': 'valeur2', 'clé2': 520, 'clé3': 'valeur3'}"
      ]
     },
     "execution_count": 16,
     "metadata": {},
     "output_type": "execute_result"
    }
   ],
   "source": [
    "dico"
   ]
  },
  {
   "cell_type": "code",
   "execution_count": 17,
   "metadata": {
    "colab": {
     "base_uri": "https://localhost:8080/",
     "height": 146
    },
    "executionInfo": {
     "elapsed": 153,
     "status": "error",
     "timestamp": 1740678162820,
     "user": {
      "displayName": "Laurent ATTIAS",
      "userId": "10616343776833878094"
     },
     "user_tz": -60
    },
    "id": "pFjnpzimgNBZ",
    "outputId": "62de6114-4f9a-4219-a166-1c609b641f80"
   },
   "outputs": [
    {
     "ename": "KeyError",
     "evalue": "'clé4'",
     "output_type": "error",
     "traceback": [
      "\u001b[0;31m---------------------------------------------------------------------------\u001b[0m",
      "\u001b[0;31mKeyError\u001b[0m                                  Traceback (most recent call last)",
      "\u001b[0;32m<ipython-input-17-4dd3c213de8c>\u001b[0m in \u001b[0;36m<cell line: 0>\u001b[0;34m()\u001b[0m\n\u001b[0;32m----> 1\u001b[0;31m \u001b[0mprint\u001b[0m\u001b[0;34m(\u001b[0m\u001b[0mdico\u001b[0m\u001b[0;34m[\u001b[0m\u001b[0;34m\"clé4\"\u001b[0m\u001b[0;34m]\u001b[0m\u001b[0;34m)\u001b[0m\u001b[0;34m\u001b[0m\u001b[0;34m\u001b[0m\u001b[0m\n\u001b[0m",
      "\u001b[0;31mKeyError\u001b[0m: 'clé4'"
     ]
    }
   ],
   "source": [
    "print(dico[\"clé4\"])"
   ]
  },
  {
   "cell_type": "code",
   "execution_count": 21,
   "metadata": {
    "executionInfo": {
     "elapsed": 11,
     "status": "ok",
     "timestamp": 1740678252743,
     "user": {
      "displayName": "Laurent ATTIAS",
      "userId": "10616343776833878094"
     },
     "user_tz": -60
    },
    "id": "Xk2wEY7Hgi1x"
   },
   "outputs": [],
   "source": [
    "dico2 = {}"
   ]
  },
  {
   "cell_type": "code",
   "execution_count": 35,
   "metadata": {
    "executionInfo": {
     "elapsed": 17,
     "status": "ok",
     "timestamp": 1740678813832,
     "user": {
      "displayName": "Laurent ATTIAS",
      "userId": "10616343776833878094"
     },
     "user_tz": -60
    },
    "id": "VDgq6s_eglHC"
   },
   "outputs": [],
   "source": [
    "individu1 = {\n",
    "    \"nom\": \"Michel\",\n",
    "    \"prénom\": \"Jean\",\n",
    "    \"taille\": 180,\n",
    "    \"profession\": \"plombier\"\n",
    "}"
   ]
  },
  {
   "cell_type": "code",
   "execution_count": 27,
   "metadata": {
    "colab": {
     "base_uri": "https://localhost:8080/",
     "height": 36
    },
    "executionInfo": {
     "elapsed": 23,
     "status": "ok",
     "timestamp": 1740678318018,
     "user": {
      "displayName": "Laurent ATTIAS",
      "userId": "10616343776833878094"
     },
     "user_tz": -60
    },
    "id": "RkVfUl8KgvPp",
    "outputId": "ac033cda-60b7-4195-9a3e-de95ca0edf63"
   },
   "outputs": [
    {
     "data": {
      "application/vnd.google.colaboratory.intrinsic+json": {
       "type": "string"
      },
      "text/plain": [
       "'Michel'"
      ]
     },
     "execution_count": 27,
     "metadata": {},
     "output_type": "execute_result"
    }
   ],
   "source": [
    "individu1[\"nom\"]"
   ]
  },
  {
   "cell_type": "code",
   "execution_count": 34,
   "metadata": {
    "colab": {
     "base_uri": "https://localhost:8080/",
     "height": 36
    },
    "executionInfo": {
     "elapsed": 9,
     "status": "ok",
     "timestamp": 1740678799679,
     "user": {
      "displayName": "Laurent ATTIAS",
      "userId": "10616343776833878094"
     },
     "user_tz": -60
    },
    "id": "WyWy6Lcwg1R2",
    "outputId": "f93e6aae-1898-4542-86ec-af1adc553fc6"
   },
   "outputs": [
    {
     "data": {
      "application/vnd.google.colaboratory.intrinsic+json": {
       "type": "string"
      },
      "text/plain": [
       "\"Je m'appelle Jean Michel, je mesure 180cm et je suis plombier\""
      ]
     },
     "execution_count": 34,
     "metadata": {},
     "output_type": "execute_result"
    }
   ],
   "source": [
    "f\"Je m'appelle {individu1['prénom']} {individu1['nom']}, je mesure {individu1['taille']}cm et je suis {individu1['profession']}\""
   ]
  },
  {
   "cell_type": "markdown",
   "metadata": {},
   "source": [
    "### Méthode `dict.fromkeys` avec un objet par défaut mutable"
   ]
  },
  {
   "cell_type": "code",
   "execution_count": 2,
   "metadata": {},
   "outputs": [],
   "source": [
    "matieres = [\"Français\", \"Mathématiques\", \"Physique\"]"
   ]
  },
  {
   "cell_type": "code",
   "execution_count": 3,
   "metadata": {},
   "outputs": [],
   "source": [
    "dico = dict.fromkeys(matieres, [])"
   ]
  },
  {
   "cell_type": "code",
   "execution_count": 4,
   "metadata": {},
   "outputs": [
    {
     "data": {
      "text/plain": [
       "{'Français': [], 'Mathématiques': [], 'Physique': []}"
      ]
     },
     "execution_count": 4,
     "metadata": {},
     "output_type": "execute_result"
    }
   ],
   "source": [
    "dico"
   ]
  },
  {
   "cell_type": "code",
   "execution_count": 6,
   "metadata": {},
   "outputs": [],
   "source": [
    "dico[\"Français\"].append(\"Michel\")"
   ]
  },
  {
   "cell_type": "code",
   "execution_count": 8,
   "metadata": {},
   "outputs": [
    {
     "data": {
      "text/plain": [
       "{'Français': ['Michel'], 'Mathématiques': ['Michel'], 'Physique': ['Michel']}"
      ]
     },
     "execution_count": 8,
     "metadata": {},
     "output_type": "execute_result"
    }
   ],
   "source": [
    "dico"
   ]
  },
  {
   "cell_type": "code",
   "execution_count": 9,
   "metadata": {},
   "outputs": [],
   "source": [
    "dico[\"Mathématiques\"].append(\"Jean\")"
   ]
  },
  {
   "cell_type": "code",
   "execution_count": 10,
   "metadata": {},
   "outputs": [
    {
     "data": {
      "text/plain": [
       "{'Français': ['Michel', 'Jean'],\n",
       " 'Mathématiques': ['Michel', 'Jean'],\n",
       " 'Physique': ['Michel', 'Jean']}"
      ]
     },
     "execution_count": 10,
     "metadata": {},
     "output_type": "execute_result"
    }
   ],
   "source": [
    "dico"
   ]
  },
  {
   "cell_type": "code",
   "execution_count": 11,
   "metadata": {},
   "outputs": [],
   "source": [
    "dico = dict.fromkeys(matieres, 0)"
   ]
  },
  {
   "cell_type": "code",
   "execution_count": 12,
   "metadata": {},
   "outputs": [
    {
     "data": {
      "text/plain": [
       "{'Français': 0, 'Mathématiques': 0, 'Physique': 0}"
      ]
     },
     "execution_count": 12,
     "metadata": {},
     "output_type": "execute_result"
    }
   ],
   "source": [
    "dico"
   ]
  },
  {
   "cell_type": "code",
   "execution_count": 13,
   "metadata": {},
   "outputs": [],
   "source": [
    "dico[\"Mathématiques\"] = 1"
   ]
  },
  {
   "cell_type": "code",
   "execution_count": 14,
   "metadata": {},
   "outputs": [],
   "source": [
    "dico[\"Physique\"] = 2"
   ]
  },
  {
   "cell_type": "code",
   "execution_count": 15,
   "metadata": {},
   "outputs": [
    {
     "data": {
      "text/plain": [
       "{'Français': 0, 'Mathématiques': 1, 'Physique': 2}"
      ]
     },
     "execution_count": 15,
     "metadata": {},
     "output_type": "execute_result"
    }
   ],
   "source": [
    "dico"
   ]
  },
  {
   "cell_type": "code",
   "execution_count": 16,
   "metadata": {},
   "outputs": [
    {
     "data": {
      "text/plain": [
       "dict_keys(['Français', 'Mathématiques', 'Physique'])"
      ]
     },
     "execution_count": 16,
     "metadata": {},
     "output_type": "execute_result"
    }
   ],
   "source": [
    "dico.keys()"
   ]
  },
  {
   "cell_type": "code",
   "execution_count": 18,
   "metadata": {},
   "outputs": [],
   "source": [
    "cles = list(dico.keys())"
   ]
  },
  {
   "cell_type": "code",
   "execution_count": 19,
   "metadata": {},
   "outputs": [],
   "source": [
    "cles.append(\"Anglais\")"
   ]
  },
  {
   "cell_type": "code",
   "execution_count": 20,
   "metadata": {},
   "outputs": [
    {
     "data": {
      "text/plain": [
       "['Français', 'Mathématiques', 'Physique', 'Anglais']"
      ]
     },
     "execution_count": 20,
     "metadata": {},
     "output_type": "execute_result"
    }
   ],
   "source": [
    "cles"
   ]
  },
  {
   "cell_type": "code",
   "execution_count": 21,
   "metadata": {},
   "outputs": [
    {
     "data": {
      "text/plain": [
       "{'Français': 0, 'Mathématiques': 1, 'Physique': 2}"
      ]
     },
     "execution_count": 21,
     "metadata": {},
     "output_type": "execute_result"
    }
   ],
   "source": [
    "dico"
   ]
  },
  {
   "cell_type": "code",
   "execution_count": 22,
   "metadata": {},
   "outputs": [],
   "source": [
    "dico[\"Anglais\"] = 0"
   ]
  },
  {
   "cell_type": "code",
   "execution_count": 23,
   "metadata": {},
   "outputs": [
    {
     "data": {
      "text/plain": [
       "{'Français': 0, 'Mathématiques': 1, 'Physique': 2, 'Anglais': 0}"
      ]
     },
     "execution_count": 23,
     "metadata": {},
     "output_type": "execute_result"
    }
   ],
   "source": [
    "dico"
   ]
  },
  {
   "cell_type": "code",
   "execution_count": 29,
   "metadata": {},
   "outputs": [
    {
     "data": {
      "text/plain": [
       "2"
      ]
     },
     "execution_count": 29,
     "metadata": {},
     "output_type": "execute_result"
    }
   ],
   "source": [
    "max(dico.values())"
   ]
  },
  {
   "cell_type": "code",
   "execution_count": 30,
   "metadata": {},
   "outputs": [
    {
     "data": {
      "text/plain": [
       "{'Français': 0, 'Mathématiques': 1, 'Physique': 2, 'Anglais': 0}"
      ]
     },
     "execution_count": 30,
     "metadata": {},
     "output_type": "execute_result"
    }
   ],
   "source": [
    "dico"
   ]
  },
  {
   "cell_type": "code",
   "execution_count": 33,
   "metadata": {},
   "outputs": [],
   "source": [
    "l = list(dico.items())"
   ]
  },
  {
   "cell_type": "markdown",
   "metadata": {},
   "source": [
    "### Retour sur l'exercice 5"
   ]
  },
  {
   "cell_type": "code",
   "execution_count": 10,
   "metadata": {},
   "outputs": [],
   "source": [
    "fruits = {\n",
    "    \"pomme\" : \"rouge\",\n",
    "    \"banane\" : \"jaune\",\n",
    "    \"orange\" : \"orange\"\n",
    "}"
   ]
  },
  {
   "cell_type": "code",
   "execution_count": 11,
   "metadata": {},
   "outputs": [
    {
     "data": {
      "text/plain": [
       "{'pomme': 'rouge', 'banane': 'jaune', 'orange': 'orange'}"
      ]
     },
     "execution_count": 11,
     "metadata": {},
     "output_type": "execute_result"
    }
   ],
   "source": [
    "fruits"
   ]
  },
  {
   "cell_type": "code",
   "execution_count": 12,
   "metadata": {},
   "outputs": [],
   "source": [
    "fruits[\"kiwi\"] = \"vert\""
   ]
  },
  {
   "cell_type": "code",
   "execution_count": 13,
   "metadata": {},
   "outputs": [
    {
     "data": {
      "text/plain": [
       "{'pomme': 'rouge', 'banane': 'jaune', 'orange': 'orange', 'kiwi': 'vert'}"
      ]
     },
     "execution_count": 13,
     "metadata": {},
     "output_type": "execute_result"
    }
   ],
   "source": [
    "fruits"
   ]
  },
  {
   "cell_type": "code",
   "execution_count": 5,
   "metadata": {},
   "outputs": [],
   "source": [
    "couleur_banane = fruits[\"banane\"]"
   ]
  },
  {
   "cell_type": "code",
   "execution_count": 14,
   "metadata": {},
   "outputs": [],
   "source": [
    "fruits[\"pomme\"] = \"vert\""
   ]
  },
  {
   "cell_type": "code",
   "execution_count": 15,
   "metadata": {},
   "outputs": [
    {
     "data": {
      "text/plain": [
       "{'pomme': 'vert', 'banane': 'jaune', 'orange': 'orange', 'kiwi': 'vert'}"
      ]
     },
     "execution_count": 15,
     "metadata": {},
     "output_type": "execute_result"
    }
   ],
   "source": [
    "fruits"
   ]
  },
  {
   "cell_type": "code",
   "execution_count": 16,
   "metadata": {},
   "outputs": [],
   "source": [
    "del fruits[\"banane\"]"
   ]
  },
  {
   "cell_type": "code",
   "execution_count": 17,
   "metadata": {},
   "outputs": [
    {
     "data": {
      "text/plain": [
       "{'pomme': 'vert', 'orange': 'orange', 'kiwi': 'vert'}"
      ]
     },
     "execution_count": 17,
     "metadata": {},
     "output_type": "execute_result"
    }
   ],
   "source": [
    "fruits"
   ]
  },
  {
   "cell_type": "code",
   "execution_count": 19,
   "metadata": {},
   "outputs": [
    {
     "data": {
      "text/plain": [
       "['pomme', 'orange', 'kiwi']"
      ]
     },
     "execution_count": 19,
     "metadata": {},
     "output_type": "execute_result"
    }
   ],
   "source": [
    "list(fruits.keys())"
   ]
  },
  {
   "cell_type": "code",
   "execution_count": 20,
   "metadata": {},
   "outputs": [
    {
     "name": "stdout",
     "output_type": "stream",
     "text": [
      "pomme\n",
      "orange\n",
      "kiwi\n"
     ]
    }
   ],
   "source": [
    "for cle in fruits:\n",
    "    print(cle)"
   ]
  }
 ],
 "metadata": {
  "colab": {
   "provenance": []
  },
  "kernelspec": {
   "display_name": "Python 3",
   "language": "python",
   "name": "python3"
  },
  "language_info": {
   "codemirror_mode": {
    "name": "ipython",
    "version": 3
   },
   "file_extension": ".py",
   "mimetype": "text/x-python",
   "name": "python",
   "nbconvert_exporter": "python",
   "pygments_lexer": "ipython3",
   "version": "3.11.0"
  }
 },
 "nbformat": 4,
 "nbformat_minor": 0
}
